{
 "cells": [
  {
   "cell_type": "markdown",
   "id": "b49c60d7",
   "metadata": {},
   "source": [
    "### import libraries"
   ]
  },
  {
   "cell_type": "code",
   "execution_count": 156,
   "id": "9cebb783",
   "metadata": {},
   "outputs": [],
   "source": [
    "import pandas as pd\n",
    "import numpy as np\n",
    "import seaborn as sns\n",
    "import matplotlib.pyplot as plt\n",
    "from sklearn.model_selection import train_test_split\n",
    "from sklearn.linear_model import LinearRegression,Lasso,Ridge\n",
    "from sklearn.metrics import mean_absolute_error,mean_squared_error,r2_score\n",
    "from statsmodels.stats.outliers_influence import variance_inflation_factor"
   ]
  },
  {
   "cell_type": "markdown",
   "id": "bfdcca86",
   "metadata": {},
   "source": [
    "### Problem Statement"
   ]
  },
  {
   "cell_type": "code",
   "execution_count": 1,
   "id": "1360795d",
   "metadata": {},
   "outputs": [],
   "source": [
    "# To make car price prediction by using dependent and independent variables.\n",
    "# Dependent Variable = \"price\"\n",
    "\n",
    "# Independent Variables = 'make', 'model', 'year', 'mileage', 'hp', 'gear', 'fuel'"
   ]
  },
  {
   "cell_type": "markdown",
   "id": "0229315d",
   "metadata": {},
   "source": [
    "### Data Gathering"
   ]
  },
  {
   "cell_type": "code",
   "execution_count": 112,
   "id": "a85197a5",
   "metadata": {},
   "outputs": [
    {
     "data": {
      "text/html": [
       "<div>\n",
       "<style scoped>\n",
       "    .dataframe tbody tr th:only-of-type {\n",
       "        vertical-align: middle;\n",
       "    }\n",
       "\n",
       "    .dataframe tbody tr th {\n",
       "        vertical-align: top;\n",
       "    }\n",
       "\n",
       "    .dataframe thead th {\n",
       "        text-align: right;\n",
       "    }\n",
       "</style>\n",
       "<table border=\"1\" class=\"dataframe\">\n",
       "  <thead>\n",
       "    <tr style=\"text-align: right;\">\n",
       "      <th></th>\n",
       "      <th>make</th>\n",
       "      <th>model</th>\n",
       "      <th>year</th>\n",
       "      <th>mileage</th>\n",
       "      <th>hp</th>\n",
       "      <th>gear</th>\n",
       "      <th>fuel</th>\n",
       "      <th>price</th>\n",
       "    </tr>\n",
       "  </thead>\n",
       "  <tbody>\n",
       "    <tr>\n",
       "      <th>0</th>\n",
       "      <td>Volkswagen</td>\n",
       "      <td>up</td>\n",
       "      <td>2019</td>\n",
       "      <td>31997</td>\n",
       "      <td>60</td>\n",
       "      <td>manual</td>\n",
       "      <td>gasoline</td>\n",
       "      <td>10190</td>\n",
       "    </tr>\n",
       "    <tr>\n",
       "      <th>1</th>\n",
       "      <td>Volkswagen</td>\n",
       "      <td>Polo</td>\n",
       "      <td>2022</td>\n",
       "      <td>100</td>\n",
       "      <td>95</td>\n",
       "      <td>manual</td>\n",
       "      <td>gasoline</td>\n",
       "      <td>24390</td>\n",
       "    </tr>\n",
       "    <tr>\n",
       "      <th>2</th>\n",
       "      <td>Volkswagen</td>\n",
       "      <td>Golf</td>\n",
       "      <td>2019</td>\n",
       "      <td>44607</td>\n",
       "      <td>116</td>\n",
       "      <td>manual</td>\n",
       "      <td>diesel</td>\n",
       "      <td>18630</td>\n",
       "    </tr>\n",
       "    <tr>\n",
       "      <th>3</th>\n",
       "      <td>Volkswagen</td>\n",
       "      <td>Tiguan</td>\n",
       "      <td>2019</td>\n",
       "      <td>42934</td>\n",
       "      <td>150</td>\n",
       "      <td>automatic</td>\n",
       "      <td>diesel</td>\n",
       "      <td>29990</td>\n",
       "    </tr>\n",
       "    <tr>\n",
       "      <th>4</th>\n",
       "      <td>Volkswagen</td>\n",
       "      <td>T6 Multivan</td>\n",
       "      <td>2021</td>\n",
       "      <td>10645</td>\n",
       "      <td>204</td>\n",
       "      <td>automatic</td>\n",
       "      <td>diesel</td>\n",
       "      <td>79890</td>\n",
       "    </tr>\n",
       "    <tr>\n",
       "      <th>...</th>\n",
       "      <td>...</td>\n",
       "      <td>...</td>\n",
       "      <td>...</td>\n",
       "      <td>...</td>\n",
       "      <td>...</td>\n",
       "      <td>...</td>\n",
       "      <td>...</td>\n",
       "      <td>...</td>\n",
       "    </tr>\n",
       "    <tr>\n",
       "      <th>144835</th>\n",
       "      <td>Volvo</td>\n",
       "      <td>XC 60</td>\n",
       "      <td>2022</td>\n",
       "      <td>0</td>\n",
       "      <td>197</td>\n",
       "      <td>automatic</td>\n",
       "      <td>gasoline</td>\n",
       "      <td>61900</td>\n",
       "    </tr>\n",
       "    <tr>\n",
       "      <th>144836</th>\n",
       "      <td>Volvo</td>\n",
       "      <td>XC 60</td>\n",
       "      <td>2022</td>\n",
       "      <td>0</td>\n",
       "      <td>197</td>\n",
       "      <td>automatic</td>\n",
       "      <td>diesel</td>\n",
       "      <td>61390</td>\n",
       "    </tr>\n",
       "    <tr>\n",
       "      <th>144837</th>\n",
       "      <td>Volvo</td>\n",
       "      <td>XC 60</td>\n",
       "      <td>2019</td>\n",
       "      <td>90321</td>\n",
       "      <td>235</td>\n",
       "      <td>automatic</td>\n",
       "      <td>diesel</td>\n",
       "      <td>34880</td>\n",
       "    </tr>\n",
       "    <tr>\n",
       "      <th>144838</th>\n",
       "      <td>Volvo</td>\n",
       "      <td>XC 60</td>\n",
       "      <td>2019</td>\n",
       "      <td>0</td>\n",
       "      <td>197</td>\n",
       "      <td>automatic</td>\n",
       "      <td>diesel</td>\n",
       "      <td>58990</td>\n",
       "    </tr>\n",
       "    <tr>\n",
       "      <th>144839</th>\n",
       "      <td>Volvo</td>\n",
       "      <td>XC 90</td>\n",
       "      <td>2021</td>\n",
       "      <td>0</td>\n",
       "      <td>235</td>\n",
       "      <td>automatic</td>\n",
       "      <td>diesel</td>\n",
       "      <td>93000</td>\n",
       "    </tr>\n",
       "  </tbody>\n",
       "</table>\n",
       "<p>144840 rows × 8 columns</p>\n",
       "</div>"
      ],
      "text/plain": [
       "              make        model  year  mileage   hp       gear      fuel  \\\n",
       "0       Volkswagen           up  2019    31997   60     manual  gasoline   \n",
       "1       Volkswagen         Polo  2022      100   95     manual  gasoline   \n",
       "2       Volkswagen         Golf  2019    44607  116     manual    diesel   \n",
       "3       Volkswagen       Tiguan  2019    42934  150  automatic    diesel   \n",
       "4       Volkswagen  T6 Multivan  2021    10645  204  automatic    diesel   \n",
       "...            ...          ...   ...      ...  ...        ...       ...   \n",
       "144835       Volvo        XC 60  2022        0  197  automatic  gasoline   \n",
       "144836       Volvo        XC 60  2022        0  197  automatic    diesel   \n",
       "144837       Volvo        XC 60  2019    90321  235  automatic    diesel   \n",
       "144838       Volvo        XC 60  2019        0  197  automatic    diesel   \n",
       "144839       Volvo        XC 90  2021        0  235  automatic    diesel   \n",
       "\n",
       "        price  \n",
       "0       10190  \n",
       "1       24390  \n",
       "2       18630  \n",
       "3       29990  \n",
       "4       79890  \n",
       "...       ...  \n",
       "144835  61900  \n",
       "144836  61390  \n",
       "144837  34880  \n",
       "144838  58990  \n",
       "144839  93000  \n",
       "\n",
       "[144840 rows x 8 columns]"
      ]
     },
     "execution_count": 112,
     "metadata": {},
     "output_type": "execute_result"
    }
   ],
   "source": [
    "df = pd.read_csv(\"out.csv\")\n",
    "df"
   ]
  },
  {
   "cell_type": "code",
   "execution_count": 113,
   "id": "78c731b0",
   "metadata": {
    "scrolled": true
   },
   "outputs": [
    {
     "name": "stdout",
     "output_type": "stream",
     "text": [
      "<class 'pandas.core.frame.DataFrame'>\n",
      "RangeIndex: 144840 entries, 0 to 144839\n",
      "Data columns (total 8 columns):\n",
      " #   Column   Non-Null Count   Dtype \n",
      "---  ------   --------------   ----- \n",
      " 0   make     144840 non-null  object\n",
      " 1   model    144840 non-null  object\n",
      " 2   year     144840 non-null  int64 \n",
      " 3   mileage  144840 non-null  int64 \n",
      " 4   hp       144840 non-null  int64 \n",
      " 5   gear     144840 non-null  object\n",
      " 6   fuel     144840 non-null  object\n",
      " 7   price    144840 non-null  int64 \n",
      "dtypes: int64(4), object(4)\n",
      "memory usage: 8.8+ MB\n"
     ]
    }
   ],
   "source": [
    "df.info()"
   ]
  },
  {
   "cell_type": "code",
   "execution_count": 114,
   "id": "bd0a37d5",
   "metadata": {},
   "outputs": [
    {
     "data": {
      "text/plain": [
       "Index(['make', 'model', 'year', 'mileage', 'hp', 'gear', 'fuel', 'price'], dtype='object')"
      ]
     },
     "execution_count": 114,
     "metadata": {},
     "output_type": "execute_result"
    }
   ],
   "source": [
    "df.columns"
   ]
  },
  {
   "cell_type": "markdown",
   "id": "cf6b60ad",
   "metadata": {},
   "source": [
    "### Exploratory data analysis"
   ]
  },
  {
   "cell_type": "code",
   "execution_count": 115,
   "id": "aa6adb41",
   "metadata": {},
   "outputs": [],
   "source": [
    "# Analyse each column"
   ]
  },
  {
   "cell_type": "code",
   "execution_count": 116,
   "id": "cb506ec4",
   "metadata": {
    "scrolled": true
   },
   "outputs": [
    {
     "data": {
      "text/plain": [
       "make       0\n",
       "model      0\n",
       "year       0\n",
       "mileage    0\n",
       "hp         0\n",
       "gear       0\n",
       "fuel       0\n",
       "price      0\n",
       "dtype: int64"
      ]
     },
     "execution_count": 116,
     "metadata": {},
     "output_type": "execute_result"
    }
   ],
   "source": [
    "df.isna().sum()"
   ]
  },
  {
   "cell_type": "code",
   "execution_count": 117,
   "id": "ef5c4a6c",
   "metadata": {},
   "outputs": [],
   "source": [
    "df.replace({0:np.nan},inplace=True)"
   ]
  },
  {
   "cell_type": "code",
   "execution_count": 118,
   "id": "49e5d933",
   "metadata": {},
   "outputs": [
    {
     "data": {
      "text/html": [
       "<div>\n",
       "<style scoped>\n",
       "    .dataframe tbody tr th:only-of-type {\n",
       "        vertical-align: middle;\n",
       "    }\n",
       "\n",
       "    .dataframe tbody tr th {\n",
       "        vertical-align: top;\n",
       "    }\n",
       "\n",
       "    .dataframe thead th {\n",
       "        text-align: right;\n",
       "    }\n",
       "</style>\n",
       "<table border=\"1\" class=\"dataframe\">\n",
       "  <thead>\n",
       "    <tr style=\"text-align: right;\">\n",
       "      <th></th>\n",
       "      <th>make</th>\n",
       "      <th>model</th>\n",
       "      <th>year</th>\n",
       "      <th>mileage</th>\n",
       "      <th>hp</th>\n",
       "      <th>gear</th>\n",
       "      <th>fuel</th>\n",
       "      <th>price</th>\n",
       "    </tr>\n",
       "  </thead>\n",
       "  <tbody>\n",
       "    <tr>\n",
       "      <th>0</th>\n",
       "      <td>Volkswagen</td>\n",
       "      <td>up</td>\n",
       "      <td>2019</td>\n",
       "      <td>31997.0</td>\n",
       "      <td>60</td>\n",
       "      <td>manual</td>\n",
       "      <td>gasoline</td>\n",
       "      <td>10190</td>\n",
       "    </tr>\n",
       "    <tr>\n",
       "      <th>1</th>\n",
       "      <td>Volkswagen</td>\n",
       "      <td>Polo</td>\n",
       "      <td>2022</td>\n",
       "      <td>100.0</td>\n",
       "      <td>95</td>\n",
       "      <td>manual</td>\n",
       "      <td>gasoline</td>\n",
       "      <td>24390</td>\n",
       "    </tr>\n",
       "    <tr>\n",
       "      <th>2</th>\n",
       "      <td>Volkswagen</td>\n",
       "      <td>Golf</td>\n",
       "      <td>2019</td>\n",
       "      <td>44607.0</td>\n",
       "      <td>116</td>\n",
       "      <td>manual</td>\n",
       "      <td>diesel</td>\n",
       "      <td>18630</td>\n",
       "    </tr>\n",
       "    <tr>\n",
       "      <th>3</th>\n",
       "      <td>Volkswagen</td>\n",
       "      <td>Tiguan</td>\n",
       "      <td>2019</td>\n",
       "      <td>42934.0</td>\n",
       "      <td>150</td>\n",
       "      <td>automatic</td>\n",
       "      <td>diesel</td>\n",
       "      <td>29990</td>\n",
       "    </tr>\n",
       "    <tr>\n",
       "      <th>4</th>\n",
       "      <td>Volkswagen</td>\n",
       "      <td>T6 Multivan</td>\n",
       "      <td>2021</td>\n",
       "      <td>10645.0</td>\n",
       "      <td>204</td>\n",
       "      <td>automatic</td>\n",
       "      <td>diesel</td>\n",
       "      <td>79890</td>\n",
       "    </tr>\n",
       "    <tr>\n",
       "      <th>...</th>\n",
       "      <td>...</td>\n",
       "      <td>...</td>\n",
       "      <td>...</td>\n",
       "      <td>...</td>\n",
       "      <td>...</td>\n",
       "      <td>...</td>\n",
       "      <td>...</td>\n",
       "      <td>...</td>\n",
       "    </tr>\n",
       "    <tr>\n",
       "      <th>144835</th>\n",
       "      <td>Volvo</td>\n",
       "      <td>XC 60</td>\n",
       "      <td>2022</td>\n",
       "      <td>NaN</td>\n",
       "      <td>197</td>\n",
       "      <td>automatic</td>\n",
       "      <td>gasoline</td>\n",
       "      <td>61900</td>\n",
       "    </tr>\n",
       "    <tr>\n",
       "      <th>144836</th>\n",
       "      <td>Volvo</td>\n",
       "      <td>XC 60</td>\n",
       "      <td>2022</td>\n",
       "      <td>NaN</td>\n",
       "      <td>197</td>\n",
       "      <td>automatic</td>\n",
       "      <td>diesel</td>\n",
       "      <td>61390</td>\n",
       "    </tr>\n",
       "    <tr>\n",
       "      <th>144837</th>\n",
       "      <td>Volvo</td>\n",
       "      <td>XC 60</td>\n",
       "      <td>2019</td>\n",
       "      <td>90321.0</td>\n",
       "      <td>235</td>\n",
       "      <td>automatic</td>\n",
       "      <td>diesel</td>\n",
       "      <td>34880</td>\n",
       "    </tr>\n",
       "    <tr>\n",
       "      <th>144838</th>\n",
       "      <td>Volvo</td>\n",
       "      <td>XC 60</td>\n",
       "      <td>2019</td>\n",
       "      <td>NaN</td>\n",
       "      <td>197</td>\n",
       "      <td>automatic</td>\n",
       "      <td>diesel</td>\n",
       "      <td>58990</td>\n",
       "    </tr>\n",
       "    <tr>\n",
       "      <th>144839</th>\n",
       "      <td>Volvo</td>\n",
       "      <td>XC 90</td>\n",
       "      <td>2021</td>\n",
       "      <td>NaN</td>\n",
       "      <td>235</td>\n",
       "      <td>automatic</td>\n",
       "      <td>diesel</td>\n",
       "      <td>93000</td>\n",
       "    </tr>\n",
       "  </tbody>\n",
       "</table>\n",
       "<p>144840 rows × 8 columns</p>\n",
       "</div>"
      ],
      "text/plain": [
       "              make        model  year  mileage   hp       gear      fuel  \\\n",
       "0       Volkswagen           up  2019  31997.0   60     manual  gasoline   \n",
       "1       Volkswagen         Polo  2022    100.0   95     manual  gasoline   \n",
       "2       Volkswagen         Golf  2019  44607.0  116     manual    diesel   \n",
       "3       Volkswagen       Tiguan  2019  42934.0  150  automatic    diesel   \n",
       "4       Volkswagen  T6 Multivan  2021  10645.0  204  automatic    diesel   \n",
       "...            ...          ...   ...      ...  ...        ...       ...   \n",
       "144835       Volvo        XC 60  2022      NaN  197  automatic  gasoline   \n",
       "144836       Volvo        XC 60  2022      NaN  197  automatic    diesel   \n",
       "144837       Volvo        XC 60  2019  90321.0  235  automatic    diesel   \n",
       "144838       Volvo        XC 60  2019      NaN  197  automatic    diesel   \n",
       "144839       Volvo        XC 90  2021      NaN  235  automatic    diesel   \n",
       "\n",
       "        price  \n",
       "0       10190  \n",
       "1       24390  \n",
       "2       18630  \n",
       "3       29990  \n",
       "4       79890  \n",
       "...       ...  \n",
       "144835  61900  \n",
       "144836  61390  \n",
       "144837  34880  \n",
       "144838  58990  \n",
       "144839  93000  \n",
       "\n",
       "[144840 rows x 8 columns]"
      ]
     },
     "execution_count": 118,
     "metadata": {},
     "output_type": "execute_result"
    }
   ],
   "source": [
    "df"
   ]
  },
  {
   "cell_type": "code",
   "execution_count": 119,
   "id": "23bcbcf9",
   "metadata": {},
   "outputs": [
    {
     "data": {
      "text/plain": [
       "make           0\n",
       "model          0\n",
       "year           0\n",
       "mileage    15619\n",
       "hp             0\n",
       "gear           0\n",
       "fuel           0\n",
       "price          0\n",
       "dtype: int64"
      ]
     },
     "execution_count": 119,
     "metadata": {},
     "output_type": "execute_result"
    }
   ],
   "source": [
    "df.isna().sum()"
   ]
  },
  {
   "cell_type": "code",
   "execution_count": 120,
   "id": "b86b0954",
   "metadata": {},
   "outputs": [
    {
     "data": {
      "text/plain": [
       "make        0.000000\n",
       "model       0.000000\n",
       "year        0.000000\n",
       "mileage    10.783623\n",
       "hp          0.000000\n",
       "gear        0.000000\n",
       "fuel        0.000000\n",
       "price       0.000000\n",
       "dtype: float64"
      ]
     },
     "execution_count": 120,
     "metadata": {},
     "output_type": "execute_result"
    }
   ],
   "source": [
    "df.isna().mean()*100"
   ]
  },
  {
   "cell_type": "code",
   "execution_count": null,
   "id": "2b5a4482",
   "metadata": {},
   "outputs": [],
   "source": []
  },
  {
   "cell_type": "markdown",
   "id": "f6346b94",
   "metadata": {},
   "source": [
    "### make"
   ]
  },
  {
   "cell_type": "code",
   "execution_count": 121,
   "id": "2f74a87c",
   "metadata": {},
   "outputs": [
    {
     "data": {
      "text/plain": [
       "0         Volkswagen\n",
       "1         Volkswagen\n",
       "2         Volkswagen\n",
       "3         Volkswagen\n",
       "4         Volkswagen\n",
       "             ...    \n",
       "144835         Volvo\n",
       "144836         Volvo\n",
       "144837         Volvo\n",
       "144838         Volvo\n",
       "144839         Volvo\n",
       "Name: make, Length: 144840, dtype: object"
      ]
     },
     "execution_count": 121,
     "metadata": {},
     "output_type": "execute_result"
    }
   ],
   "source": [
    "df[\"make\"]"
   ]
  },
  {
   "cell_type": "code",
   "execution_count": 122,
   "id": "a8d61c90",
   "metadata": {},
   "outputs": [
    {
     "data": {
      "text/plain": [
       "Volkswagen       16551\n",
       "Audi             13777\n",
       "Mercedes-Benz    11416\n",
       "Skoda            10927\n",
       "BMW              10178\n",
       "Ford             10068\n",
       "Opel              9767\n",
       "Renault           8915\n",
       "Seat              8550\n",
       "Hyundai           4302\n",
       "CUPRA             4149\n",
       "Volvo             3783\n",
       "Kia               3024\n",
       "Nissan            2912\n",
       "Toyota            2571\n",
       "Peugeot           2422\n",
       "Dacia             2334\n",
       "Mazda             2331\n",
       "Citroën           2103\n",
       "MINI              2038\n",
       "Porsche           2024\n",
       "Fiat              1594\n",
       "Land              1584\n",
       "Jaguar            1486\n",
       "Jeep              1123\n",
       "Suzuki             989\n",
       "Mitsubishi         799\n",
       "smart              756\n",
       "Honda              501\n",
       "Alfa               295\n",
       "DS                 278\n",
       "Abarth             233\n",
       "Subaru             182\n",
       "Ssangyong          170\n",
       "Maserati           158\n",
       "Lexus              105\n",
       "Dodge              101\n",
       "MG                  77\n",
       "Aston               59\n",
       "Tesla               54\n",
       "Piaggio             49\n",
       "ALPINA              32\n",
       "Bentley             28\n",
       "Cadillac            17\n",
       "Polestar            12\n",
       "Infiniti             8\n",
       "Lada                 8\n",
       "Name: make, dtype: int64"
      ]
     },
     "execution_count": 122,
     "metadata": {},
     "output_type": "execute_result"
    }
   ],
   "source": [
    "df[\"make\"].value_counts()  # drop this column bcoz no impact of this column on price"
   ]
  },
  {
   "cell_type": "markdown",
   "id": "2a0714f1",
   "metadata": {},
   "source": [
    "### model    "
   ]
  },
  {
   "cell_type": "code",
   "execution_count": 123,
   "id": "a9bf2389",
   "metadata": {},
   "outputs": [
    {
     "data": {
      "text/plain": [
       "Leon                      3527\n",
       "Golf                      3107\n",
       "Octavia                   2623\n",
       "Ateca                     2616\n",
       "Formentor                 2291\n",
       "                          ... \n",
       "CLS 220 Shooting Brake       1\n",
       "SL 350                       1\n",
       "MR 2                         1\n",
       "S60 CC                       1\n",
       "428                          1\n",
       "Name: model, Length: 730, dtype: int64"
      ]
     },
     "execution_count": 123,
     "metadata": {},
     "output_type": "execute_result"
    }
   ],
   "source": [
    "df[\"model\"].value_counts()  # Drop this column also"
   ]
  },
  {
   "cell_type": "code",
   "execution_count": 124,
   "id": "1656fe0d",
   "metadata": {},
   "outputs": [
    {
     "name": "stdout",
     "output_type": "stream",
     "text": [
      "<class 'pandas.core.frame.DataFrame'>\n",
      "RangeIndex: 144840 entries, 0 to 144839\n",
      "Data columns (total 8 columns):\n",
      " #   Column   Non-Null Count   Dtype  \n",
      "---  ------   --------------   -----  \n",
      " 0   make     144840 non-null  object \n",
      " 1   model    144840 non-null  object \n",
      " 2   year     144840 non-null  int64  \n",
      " 3   mileage  129221 non-null  float64\n",
      " 4   hp       144840 non-null  int64  \n",
      " 5   gear     144840 non-null  object \n",
      " 6   fuel     144840 non-null  object \n",
      " 7   price    144840 non-null  int64  \n",
      "dtypes: float64(1), int64(3), object(4)\n",
      "memory usage: 8.8+ MB\n"
     ]
    }
   ],
   "source": [
    "df.info()"
   ]
  },
  {
   "cell_type": "markdown",
   "id": "00d5fefa",
   "metadata": {},
   "source": [
    "### year     "
   ]
  },
  {
   "cell_type": "code",
   "execution_count": 125,
   "id": "c2cbfe86",
   "metadata": {},
   "outputs": [
    {
     "data": {
      "text/plain": [
       "0         2019\n",
       "1         2022\n",
       "2         2019\n",
       "3         2019\n",
       "4         2021\n",
       "          ... \n",
       "144835    2022\n",
       "144836    2022\n",
       "144837    2019\n",
       "144838    2019\n",
       "144839    2021\n",
       "Name: year, Length: 144840, dtype: int64"
      ]
     },
     "execution_count": 125,
     "metadata": {},
     "output_type": "execute_result"
    }
   ],
   "source": [
    "df[\"year\"]"
   ]
  },
  {
   "cell_type": "code",
   "execution_count": 126,
   "id": "3ccea667",
   "metadata": {},
   "outputs": [
    {
     "data": {
      "text/plain": [
       "2022    35363\n",
       "2021    34087\n",
       "2019    28313\n",
       "2020    19821\n",
       "2018    15888\n",
       "2017     6297\n",
       "2016     3005\n",
       "2015     1852\n",
       "2014      199\n",
       "2012       10\n",
       "2013        5\n",
       "Name: year, dtype: int64"
      ]
     },
     "execution_count": 126,
     "metadata": {},
     "output_type": "execute_result"
    }
   ],
   "source": [
    "df[\"year\"].value_counts() # No need to process"
   ]
  },
  {
   "cell_type": "markdown",
   "id": "f23be626",
   "metadata": {},
   "source": [
    "### mileage  "
   ]
  },
  {
   "cell_type": "code",
   "execution_count": 127,
   "id": "1cedeeb2",
   "metadata": {
    "scrolled": true
   },
   "outputs": [
    {
     "data": {
      "text/plain": [
       "0         31997.0\n",
       "1           100.0\n",
       "2         44607.0\n",
       "3         42934.0\n",
       "4         10645.0\n",
       "           ...   \n",
       "144835        NaN\n",
       "144836        NaN\n",
       "144837    90321.0\n",
       "144838        NaN\n",
       "144839        NaN\n",
       "Name: mileage, Length: 144840, dtype: float64"
      ]
     },
     "execution_count": 127,
     "metadata": {},
     "output_type": "execute_result"
    }
   ],
   "source": [
    "df[\"mileage\"]"
   ]
  },
  {
   "cell_type": "code",
   "execution_count": 128,
   "id": "77bdfd60",
   "metadata": {},
   "outputs": [
    {
     "data": {
      "text/plain": [
       "0         10.373397\n",
       "1          4.605170\n",
       "2         10.705646\n",
       "3         10.667419\n",
       "4          9.272846\n",
       "            ...    \n",
       "144835          NaN\n",
       "144836          NaN\n",
       "144837    11.411125\n",
       "144838          NaN\n",
       "144839          NaN\n",
       "Name: mileage, Length: 144840, dtype: float64"
      ]
     },
     "execution_count": 128,
     "metadata": {},
     "output_type": "execute_result"
    }
   ],
   "source": [
    "df[\"mileage\"] = np.log(df[\"mileage\"])\n",
    "df[\"mileage\"]"
   ]
  },
  {
   "cell_type": "code",
   "execution_count": 129,
   "id": "a2bc5d79",
   "metadata": {
    "scrolled": true
   },
   "outputs": [
    {
     "data": {
      "text/plain": [
       "15619"
      ]
     },
     "execution_count": 129,
     "metadata": {},
     "output_type": "execute_result"
    }
   ],
   "source": [
    "df[\"mileage\"].isna().sum()"
   ]
  },
  {
   "cell_type": "code",
   "execution_count": 130,
   "id": "698149df",
   "metadata": {},
   "outputs": [
    {
     "data": {
      "text/plain": [
       "8.499150639860874"
      ]
     },
     "execution_count": 130,
     "metadata": {},
     "output_type": "execute_result"
    }
   ],
   "source": [
    "df[\"mileage\"].mean()"
   ]
  },
  {
   "cell_type": "code",
   "execution_count": 131,
   "id": "e8fa98e3",
   "metadata": {},
   "outputs": [
    {
     "data": {
      "text/plain": [
       "9.796792813865165"
      ]
     },
     "execution_count": 131,
     "metadata": {},
     "output_type": "execute_result"
    }
   ],
   "source": [
    "df[\"mileage\"].median()"
   ]
  },
  {
   "cell_type": "code",
   "execution_count": 132,
   "id": "52988332",
   "metadata": {},
   "outputs": [
    {
     "data": {
      "text/plain": [
       "0         10.373397\n",
       "1          4.605170\n",
       "2         10.705646\n",
       "3         10.667419\n",
       "4          9.272846\n",
       "            ...    \n",
       "144835     9.796793\n",
       "144836     9.796793\n",
       "144837    11.411125\n",
       "144838     9.796793\n",
       "144839     9.796793\n",
       "Name: mileage, Length: 144840, dtype: float64"
      ]
     },
     "execution_count": 132,
     "metadata": {},
     "output_type": "execute_result"
    }
   ],
   "source": [
    "df[\"mileage\"] = df[\"mileage\"].fillna(df[\"mileage\"].median())\n",
    "df[\"mileage\"]"
   ]
  },
  {
   "cell_type": "code",
   "execution_count": 133,
   "id": "76d9b1cf",
   "metadata": {},
   "outputs": [
    {
     "data": {
      "text/plain": [
       "0         10\n",
       "1          4\n",
       "2         10\n",
       "3         10\n",
       "4          9\n",
       "          ..\n",
       "144835     9\n",
       "144836     9\n",
       "144837    11\n",
       "144838     9\n",
       "144839     9\n",
       "Name: mileage, Length: 144840, dtype: int32"
      ]
     },
     "execution_count": 133,
     "metadata": {},
     "output_type": "execute_result"
    }
   ],
   "source": [
    "df[\"mileage\"] = df[\"mileage\"].astype(int)\n",
    "df[\"mileage\"]"
   ]
  },
  {
   "cell_type": "code",
   "execution_count": 134,
   "id": "ec8f1d95",
   "metadata": {},
   "outputs": [
    {
     "name": "stdout",
     "output_type": "stream",
     "text": [
      "<class 'pandas.core.frame.DataFrame'>\n",
      "RangeIndex: 144840 entries, 0 to 144839\n",
      "Data columns (total 8 columns):\n",
      " #   Column   Non-Null Count   Dtype \n",
      "---  ------   --------------   ----- \n",
      " 0   make     144840 non-null  object\n",
      " 1   model    144840 non-null  object\n",
      " 2   year     144840 non-null  int64 \n",
      " 3   mileage  144840 non-null  int32 \n",
      " 4   hp       144840 non-null  int64 \n",
      " 5   gear     144840 non-null  object\n",
      " 6   fuel     144840 non-null  object\n",
      " 7   price    144840 non-null  int64 \n",
      "dtypes: int32(1), int64(3), object(4)\n",
      "memory usage: 8.3+ MB\n"
     ]
    }
   ],
   "source": [
    "df.info()"
   ]
  },
  {
   "cell_type": "markdown",
   "id": "05165ddc",
   "metadata": {},
   "source": [
    "### gear"
   ]
  },
  {
   "cell_type": "code",
   "execution_count": 135,
   "id": "30669a91",
   "metadata": {},
   "outputs": [
    {
     "data": {
      "text/plain": [
       "0            manual\n",
       "1            manual\n",
       "2            manual\n",
       "3         automatic\n",
       "4         automatic\n",
       "            ...    \n",
       "144835    automatic\n",
       "144836    automatic\n",
       "144837    automatic\n",
       "144838    automatic\n",
       "144839    automatic\n",
       "Name: gear, Length: 144840, dtype: object"
      ]
     },
     "execution_count": 135,
     "metadata": {},
     "output_type": "execute_result"
    }
   ],
   "source": [
    "df[\"gear\"]"
   ]
  },
  {
   "cell_type": "code",
   "execution_count": 136,
   "id": "6010b76b",
   "metadata": {},
   "outputs": [
    {
     "data": {
      "text/plain": [
       "{'automatic': 93454, 'manual': 51386}"
      ]
     },
     "execution_count": 136,
     "metadata": {},
     "output_type": "execute_result"
    }
   ],
   "source": [
    "df[\"gear\"].value_counts().to_dict()"
   ]
  },
  {
   "cell_type": "code",
   "execution_count": 137,
   "id": "ac1cd31f",
   "metadata": {},
   "outputs": [],
   "source": [
    "df[\"gear\"].replace({'automatic': 1, 'manual': 0},inplace=True)"
   ]
  },
  {
   "cell_type": "code",
   "execution_count": 138,
   "id": "72302450",
   "metadata": {},
   "outputs": [
    {
     "data": {
      "text/plain": [
       "0         0\n",
       "1         0\n",
       "2         0\n",
       "3         1\n",
       "4         1\n",
       "         ..\n",
       "144835    1\n",
       "144836    1\n",
       "144837    1\n",
       "144838    1\n",
       "144839    1\n",
       "Name: gear, Length: 144840, dtype: int64"
      ]
     },
     "execution_count": 138,
     "metadata": {},
     "output_type": "execute_result"
    }
   ],
   "source": [
    "df[\"gear\"]"
   ]
  },
  {
   "cell_type": "markdown",
   "id": "4b0c3a83",
   "metadata": {},
   "source": [
    "### fuel"
   ]
  },
  {
   "cell_type": "code",
   "execution_count": 139,
   "id": "628d7151",
   "metadata": {},
   "outputs": [
    {
     "data": {
      "text/plain": [
       "0         gasoline\n",
       "1         gasoline\n",
       "2           diesel\n",
       "3           diesel\n",
       "4           diesel\n",
       "            ...   \n",
       "144835    gasoline\n",
       "144836      diesel\n",
       "144837      diesel\n",
       "144838      diesel\n",
       "144839      diesel\n",
       "Name: fuel, Length: 144840, dtype: object"
      ]
     },
     "execution_count": 139,
     "metadata": {},
     "output_type": "execute_result"
    }
   ],
   "source": [
    "df[\"fuel\"]"
   ]
  },
  {
   "cell_type": "code",
   "execution_count": 140,
   "id": "bd52fb2f",
   "metadata": {},
   "outputs": [
    {
     "data": {
      "text/plain": [
       "gasoline             84173\n",
       "diesel               43608\n",
       "Hybrid - gasoline    10649\n",
       "electric              5326\n",
       "hybrid - diesel        650\n",
       "gas                    357\n",
       "other                   77\n",
       "Name: fuel, dtype: int64"
      ]
     },
     "execution_count": 140,
     "metadata": {},
     "output_type": "execute_result"
    }
   ],
   "source": [
    "df[\"fuel\"].value_counts()"
   ]
  },
  {
   "cell_type": "code",
   "execution_count": 141,
   "id": "2a5dcedc",
   "metadata": {},
   "outputs": [],
   "source": [
    "df = pd.get_dummies(df,columns=[\"fuel\"])"
   ]
  },
  {
   "cell_type": "code",
   "execution_count": 142,
   "id": "51894c3f",
   "metadata": {},
   "outputs": [
    {
     "name": "stdout",
     "output_type": "stream",
     "text": [
      "<class 'pandas.core.frame.DataFrame'>\n",
      "RangeIndex: 144840 entries, 0 to 144839\n",
      "Data columns (total 14 columns):\n",
      " #   Column                  Non-Null Count   Dtype \n",
      "---  ------                  --------------   ----- \n",
      " 0   make                    144840 non-null  object\n",
      " 1   model                   144840 non-null  object\n",
      " 2   year                    144840 non-null  int64 \n",
      " 3   mileage                 144840 non-null  int32 \n",
      " 4   hp                      144840 non-null  int64 \n",
      " 5   gear                    144840 non-null  int64 \n",
      " 6   price                   144840 non-null  int64 \n",
      " 7   fuel_Hybrid - gasoline  144840 non-null  uint8 \n",
      " 8   fuel_diesel             144840 non-null  uint8 \n",
      " 9   fuel_electric           144840 non-null  uint8 \n",
      " 10  fuel_gas                144840 non-null  uint8 \n",
      " 11  fuel_gasoline           144840 non-null  uint8 \n",
      " 12  fuel_hybrid - diesel    144840 non-null  uint8 \n",
      " 13  fuel_other              144840 non-null  uint8 \n",
      "dtypes: int32(1), int64(4), object(2), uint8(7)\n",
      "memory usage: 8.1+ MB\n"
     ]
    }
   ],
   "source": [
    "df.info()"
   ]
  },
  {
   "cell_type": "markdown",
   "id": "2ceb01b2",
   "metadata": {},
   "source": [
    "## Feature selection"
   ]
  },
  {
   "cell_type": "markdown",
   "id": "44ed6e47",
   "metadata": {},
   "source": [
    "### correlation"
   ]
  },
  {
   "cell_type": "code",
   "execution_count": 143,
   "id": "b88e43c3",
   "metadata": {},
   "outputs": [
    {
     "data": {
      "text/html": [
       "<div>\n",
       "<style scoped>\n",
       "    .dataframe tbody tr th:only-of-type {\n",
       "        vertical-align: middle;\n",
       "    }\n",
       "\n",
       "    .dataframe tbody tr th {\n",
       "        vertical-align: top;\n",
       "    }\n",
       "\n",
       "    .dataframe thead th {\n",
       "        text-align: right;\n",
       "    }\n",
       "</style>\n",
       "<table border=\"1\" class=\"dataframe\">\n",
       "  <thead>\n",
       "    <tr style=\"text-align: right;\">\n",
       "      <th></th>\n",
       "      <th>year</th>\n",
       "      <th>mileage</th>\n",
       "      <th>hp</th>\n",
       "      <th>gear</th>\n",
       "      <th>price</th>\n",
       "      <th>fuel_Hybrid - gasoline</th>\n",
       "      <th>fuel_diesel</th>\n",
       "      <th>fuel_electric</th>\n",
       "      <th>fuel_gas</th>\n",
       "      <th>fuel_gasoline</th>\n",
       "      <th>fuel_hybrid - diesel</th>\n",
       "      <th>fuel_other</th>\n",
       "    </tr>\n",
       "  </thead>\n",
       "  <tbody>\n",
       "    <tr>\n",
       "      <th>year</th>\n",
       "      <td>1.000000</td>\n",
       "      <td>-0.323569</td>\n",
       "      <td>0.000278</td>\n",
       "      <td>0.055480</td>\n",
       "      <td>0.159435</td>\n",
       "      <td>0.085125</td>\n",
       "      <td>-0.099958</td>\n",
       "      <td>0.058019</td>\n",
       "      <td>0.000568</td>\n",
       "      <td>0.022312</td>\n",
       "      <td>0.022541</td>\n",
       "      <td>0.007554</td>\n",
       "    </tr>\n",
       "    <tr>\n",
       "      <th>mileage</th>\n",
       "      <td>-0.323569</td>\n",
       "      <td>1.000000</td>\n",
       "      <td>0.083065</td>\n",
       "      <td>0.070916</td>\n",
       "      <td>-0.078075</td>\n",
       "      <td>-0.096223</td>\n",
       "      <td>0.184528</td>\n",
       "      <td>-0.081506</td>\n",
       "      <td>0.013428</td>\n",
       "      <td>-0.093253</td>\n",
       "      <td>0.017145</td>\n",
       "      <td>0.000060</td>\n",
       "    </tr>\n",
       "    <tr>\n",
       "      <th>hp</th>\n",
       "      <td>0.000278</td>\n",
       "      <td>0.083065</td>\n",
       "      <td>1.000000</td>\n",
       "      <td>0.444015</td>\n",
       "      <td>0.757795</td>\n",
       "      <td>0.081396</td>\n",
       "      <td>0.031301</td>\n",
       "      <td>0.098388</td>\n",
       "      <td>-0.040857</td>\n",
       "      <td>-0.107753</td>\n",
       "      <td>0.017670</td>\n",
       "      <td>-0.004846</td>\n",
       "    </tr>\n",
       "    <tr>\n",
       "      <th>gear</th>\n",
       "      <td>0.055480</td>\n",
       "      <td>0.070916</td>\n",
       "      <td>0.444015</td>\n",
       "      <td>1.000000</td>\n",
       "      <td>0.391298</td>\n",
       "      <td>0.155202</td>\n",
       "      <td>0.138670</td>\n",
       "      <td>0.128550</td>\n",
       "      <td>-0.042007</td>\n",
       "      <td>-0.259736</td>\n",
       "      <td>0.032083</td>\n",
       "      <td>-0.009817</td>\n",
       "    </tr>\n",
       "    <tr>\n",
       "      <th>price</th>\n",
       "      <td>0.159435</td>\n",
       "      <td>-0.078075</td>\n",
       "      <td>0.757795</td>\n",
       "      <td>0.391298</td>\n",
       "      <td>1.000000</td>\n",
       "      <td>0.084939</td>\n",
       "      <td>0.103435</td>\n",
       "      <td>0.135024</td>\n",
       "      <td>-0.034928</td>\n",
       "      <td>-0.197214</td>\n",
       "      <td>0.060751</td>\n",
       "      <td>-0.002492</td>\n",
       "    </tr>\n",
       "    <tr>\n",
       "      <th>fuel_Hybrid - gasoline</th>\n",
       "      <td>0.085125</td>\n",
       "      <td>-0.096223</td>\n",
       "      <td>0.081396</td>\n",
       "      <td>0.155202</td>\n",
       "      <td>0.084939</td>\n",
       "      <td>1.000000</td>\n",
       "      <td>-0.184891</td>\n",
       "      <td>-0.055041</td>\n",
       "      <td>-0.014003</td>\n",
       "      <td>-0.331820</td>\n",
       "      <td>-0.018914</td>\n",
       "      <td>-0.006497</td>\n",
       "    </tr>\n",
       "    <tr>\n",
       "      <th>fuel_diesel</th>\n",
       "      <td>-0.099958</td>\n",
       "      <td>0.184528</td>\n",
       "      <td>0.031301</td>\n",
       "      <td>0.138670</td>\n",
       "      <td>0.103435</td>\n",
       "      <td>-0.184891</td>\n",
       "      <td>1.000000</td>\n",
       "      <td>-0.128238</td>\n",
       "      <td>-0.032625</td>\n",
       "      <td>-0.773098</td>\n",
       "      <td>-0.044067</td>\n",
       "      <td>-0.015137</td>\n",
       "    </tr>\n",
       "    <tr>\n",
       "      <th>fuel_electric</th>\n",
       "      <td>0.058019</td>\n",
       "      <td>-0.081506</td>\n",
       "      <td>0.098388</td>\n",
       "      <td>0.128550</td>\n",
       "      <td>0.135024</td>\n",
       "      <td>-0.055041</td>\n",
       "      <td>-0.128238</td>\n",
       "      <td>1.000000</td>\n",
       "      <td>-0.009712</td>\n",
       "      <td>-0.230145</td>\n",
       "      <td>-0.013118</td>\n",
       "      <td>-0.004506</td>\n",
       "    </tr>\n",
       "    <tr>\n",
       "      <th>fuel_gas</th>\n",
       "      <td>0.000568</td>\n",
       "      <td>0.013428</td>\n",
       "      <td>-0.040857</td>\n",
       "      <td>-0.042007</td>\n",
       "      <td>-0.034928</td>\n",
       "      <td>-0.014003</td>\n",
       "      <td>-0.032625</td>\n",
       "      <td>-0.009712</td>\n",
       "      <td>1.000000</td>\n",
       "      <td>-0.058551</td>\n",
       "      <td>-0.003337</td>\n",
       "      <td>-0.001146</td>\n",
       "    </tr>\n",
       "    <tr>\n",
       "      <th>fuel_gasoline</th>\n",
       "      <td>0.022312</td>\n",
       "      <td>-0.093253</td>\n",
       "      <td>-0.107753</td>\n",
       "      <td>-0.259736</td>\n",
       "      <td>-0.197214</td>\n",
       "      <td>-0.331820</td>\n",
       "      <td>-0.773098</td>\n",
       "      <td>-0.230145</td>\n",
       "      <td>-0.058551</td>\n",
       "      <td>1.000000</td>\n",
       "      <td>-0.079086</td>\n",
       "      <td>-0.027166</td>\n",
       "    </tr>\n",
       "    <tr>\n",
       "      <th>fuel_hybrid - diesel</th>\n",
       "      <td>0.022541</td>\n",
       "      <td>0.017145</td>\n",
       "      <td>0.017670</td>\n",
       "      <td>0.032083</td>\n",
       "      <td>0.060751</td>\n",
       "      <td>-0.018914</td>\n",
       "      <td>-0.044067</td>\n",
       "      <td>-0.013118</td>\n",
       "      <td>-0.003337</td>\n",
       "      <td>-0.079086</td>\n",
       "      <td>1.000000</td>\n",
       "      <td>-0.001548</td>\n",
       "    </tr>\n",
       "    <tr>\n",
       "      <th>fuel_other</th>\n",
       "      <td>0.007554</td>\n",
       "      <td>0.000060</td>\n",
       "      <td>-0.004846</td>\n",
       "      <td>-0.009817</td>\n",
       "      <td>-0.002492</td>\n",
       "      <td>-0.006497</td>\n",
       "      <td>-0.015137</td>\n",
       "      <td>-0.004506</td>\n",
       "      <td>-0.001146</td>\n",
       "      <td>-0.027166</td>\n",
       "      <td>-0.001548</td>\n",
       "      <td>1.000000</td>\n",
       "    </tr>\n",
       "  </tbody>\n",
       "</table>\n",
       "</div>"
      ],
      "text/plain": [
       "                            year   mileage        hp      gear     price  \\\n",
       "year                    1.000000 -0.323569  0.000278  0.055480  0.159435   \n",
       "mileage                -0.323569  1.000000  0.083065  0.070916 -0.078075   \n",
       "hp                      0.000278  0.083065  1.000000  0.444015  0.757795   \n",
       "gear                    0.055480  0.070916  0.444015  1.000000  0.391298   \n",
       "price                   0.159435 -0.078075  0.757795  0.391298  1.000000   \n",
       "fuel_Hybrid - gasoline  0.085125 -0.096223  0.081396  0.155202  0.084939   \n",
       "fuel_diesel            -0.099958  0.184528  0.031301  0.138670  0.103435   \n",
       "fuel_electric           0.058019 -0.081506  0.098388  0.128550  0.135024   \n",
       "fuel_gas                0.000568  0.013428 -0.040857 -0.042007 -0.034928   \n",
       "fuel_gasoline           0.022312 -0.093253 -0.107753 -0.259736 -0.197214   \n",
       "fuel_hybrid - diesel    0.022541  0.017145  0.017670  0.032083  0.060751   \n",
       "fuel_other              0.007554  0.000060 -0.004846 -0.009817 -0.002492   \n",
       "\n",
       "                        fuel_Hybrid - gasoline  fuel_diesel  fuel_electric  \\\n",
       "year                                  0.085125    -0.099958       0.058019   \n",
       "mileage                              -0.096223     0.184528      -0.081506   \n",
       "hp                                    0.081396     0.031301       0.098388   \n",
       "gear                                  0.155202     0.138670       0.128550   \n",
       "price                                 0.084939     0.103435       0.135024   \n",
       "fuel_Hybrid - gasoline                1.000000    -0.184891      -0.055041   \n",
       "fuel_diesel                          -0.184891     1.000000      -0.128238   \n",
       "fuel_electric                        -0.055041    -0.128238       1.000000   \n",
       "fuel_gas                             -0.014003    -0.032625      -0.009712   \n",
       "fuel_gasoline                        -0.331820    -0.773098      -0.230145   \n",
       "fuel_hybrid - diesel                 -0.018914    -0.044067      -0.013118   \n",
       "fuel_other                           -0.006497    -0.015137      -0.004506   \n",
       "\n",
       "                        fuel_gas  fuel_gasoline  fuel_hybrid - diesel  \\\n",
       "year                    0.000568       0.022312              0.022541   \n",
       "mileage                 0.013428      -0.093253              0.017145   \n",
       "hp                     -0.040857      -0.107753              0.017670   \n",
       "gear                   -0.042007      -0.259736              0.032083   \n",
       "price                  -0.034928      -0.197214              0.060751   \n",
       "fuel_Hybrid - gasoline -0.014003      -0.331820             -0.018914   \n",
       "fuel_diesel            -0.032625      -0.773098             -0.044067   \n",
       "fuel_electric          -0.009712      -0.230145             -0.013118   \n",
       "fuel_gas                1.000000      -0.058551             -0.003337   \n",
       "fuel_gasoline          -0.058551       1.000000             -0.079086   \n",
       "fuel_hybrid - diesel   -0.003337      -0.079086              1.000000   \n",
       "fuel_other             -0.001146      -0.027166             -0.001548   \n",
       "\n",
       "                        fuel_other  \n",
       "year                      0.007554  \n",
       "mileage                   0.000060  \n",
       "hp                       -0.004846  \n",
       "gear                     -0.009817  \n",
       "price                    -0.002492  \n",
       "fuel_Hybrid - gasoline   -0.006497  \n",
       "fuel_diesel              -0.015137  \n",
       "fuel_electric            -0.004506  \n",
       "fuel_gas                 -0.001146  \n",
       "fuel_gasoline            -0.027166  \n",
       "fuel_hybrid - diesel     -0.001548  \n",
       "fuel_other                1.000000  "
      ]
     },
     "execution_count": 143,
     "metadata": {},
     "output_type": "execute_result"
    }
   ],
   "source": [
    "df.corr()"
   ]
  },
  {
   "cell_type": "code",
   "execution_count": 144,
   "id": "801288ca",
   "metadata": {},
   "outputs": [
    {
     "data": {
      "text/plain": [
       "<AxesSubplot: >"
      ]
     },
     "execution_count": 144,
     "metadata": {},
     "output_type": "execute_result"
    },
    {
     "data": {
      "image/png": "[encoded data removed]",
      "text/plain": [
       "<Figure size 1080x720 with 2 Axes>"
      ]
     },
     "metadata": {
      "needs_background": "light"
     },
     "output_type": "display_data"
    }
   ],
   "source": [
    "plt.figure(figsize=(15,10))\n",
    "sns.heatmap(df.corr(),annot=True)"
   ]
  },
  {
   "cell_type": "code",
   "execution_count": 145,
   "id": "7247660f",
   "metadata": {},
   "outputs": [
    {
     "data": {
      "text/plain": [
       "year                      0.159435\n",
       "mileage                  -0.078075\n",
       "hp                        0.757795\n",
       "gear                      0.391298\n",
       "price                     1.000000\n",
       "fuel_Hybrid - gasoline    0.084939\n",
       "fuel_diesel               0.103435\n",
       "fuel_electric             0.135024\n",
       "fuel_gas                 -0.034928\n",
       "fuel_gasoline            -0.197214\n",
       "fuel_hybrid - diesel      0.060751\n",
       "fuel_other               -0.002492\n",
       "Name: price, dtype: float64"
      ]
     },
     "execution_count": 145,
     "metadata": {},
     "output_type": "execute_result"
    }
   ],
   "source": [
    "correlation = df.corr().loc[\"price\"]\n",
    "correlation.T"
   ]
  },
  {
   "cell_type": "code",
   "execution_count": 146,
   "id": "c7172b36",
   "metadata": {},
   "outputs": [
    {
     "data": {
      "text/html": [
       "<div>\n",
       "<style scoped>\n",
       "    .dataframe tbody tr th:only-of-type {\n",
       "        vertical-align: middle;\n",
       "    }\n",
       "\n",
       "    .dataframe tbody tr th {\n",
       "        vertical-align: top;\n",
       "    }\n",
       "\n",
       "    .dataframe thead th {\n",
       "        text-align: right;\n",
       "    }\n",
       "</style>\n",
       "<table border=\"1\" class=\"dataframe\">\n",
       "  <thead>\n",
       "    <tr style=\"text-align: right;\">\n",
       "      <th></th>\n",
       "      <th>make</th>\n",
       "      <th>model</th>\n",
       "      <th>year</th>\n",
       "      <th>mileage</th>\n",
       "      <th>hp</th>\n",
       "      <th>gear</th>\n",
       "      <th>price</th>\n",
       "      <th>fuel_Hybrid - gasoline</th>\n",
       "      <th>fuel_diesel</th>\n",
       "      <th>fuel_electric</th>\n",
       "      <th>fuel_gas</th>\n",
       "      <th>fuel_gasoline</th>\n",
       "      <th>fuel_hybrid - diesel</th>\n",
       "      <th>fuel_other</th>\n",
       "    </tr>\n",
       "  </thead>\n",
       "  <tbody>\n",
       "    <tr>\n",
       "      <th>0</th>\n",
       "      <td>Volkswagen</td>\n",
       "      <td>up</td>\n",
       "      <td>2019</td>\n",
       "      <td>10</td>\n",
       "      <td>60</td>\n",
       "      <td>0</td>\n",
       "      <td>10190</td>\n",
       "      <td>0</td>\n",
       "      <td>0</td>\n",
       "      <td>0</td>\n",
       "      <td>0</td>\n",
       "      <td>1</td>\n",
       "      <td>0</td>\n",
       "      <td>0</td>\n",
       "    </tr>\n",
       "    <tr>\n",
       "      <th>1</th>\n",
       "      <td>Volkswagen</td>\n",
       "      <td>Polo</td>\n",
       "      <td>2022</td>\n",
       "      <td>4</td>\n",
       "      <td>95</td>\n",
       "      <td>0</td>\n",
       "      <td>24390</td>\n",
       "      <td>0</td>\n",
       "      <td>0</td>\n",
       "      <td>0</td>\n",
       "      <td>0</td>\n",
       "      <td>1</td>\n",
       "      <td>0</td>\n",
       "      <td>0</td>\n",
       "    </tr>\n",
       "    <tr>\n",
       "      <th>2</th>\n",
       "      <td>Volkswagen</td>\n",
       "      <td>Golf</td>\n",
       "      <td>2019</td>\n",
       "      <td>10</td>\n",
       "      <td>116</td>\n",
       "      <td>0</td>\n",
       "      <td>18630</td>\n",
       "      <td>0</td>\n",
       "      <td>1</td>\n",
       "      <td>0</td>\n",
       "      <td>0</td>\n",
       "      <td>0</td>\n",
       "      <td>0</td>\n",
       "      <td>0</td>\n",
       "    </tr>\n",
       "    <tr>\n",
       "      <th>3</th>\n",
       "      <td>Volkswagen</td>\n",
       "      <td>Tiguan</td>\n",
       "      <td>2019</td>\n",
       "      <td>10</td>\n",
       "      <td>150</td>\n",
       "      <td>1</td>\n",
       "      <td>29990</td>\n",
       "      <td>0</td>\n",
       "      <td>1</td>\n",
       "      <td>0</td>\n",
       "      <td>0</td>\n",
       "      <td>0</td>\n",
       "      <td>0</td>\n",
       "      <td>0</td>\n",
       "    </tr>\n",
       "    <tr>\n",
       "      <th>4</th>\n",
       "      <td>Volkswagen</td>\n",
       "      <td>T6 Multivan</td>\n",
       "      <td>2021</td>\n",
       "      <td>9</td>\n",
       "      <td>204</td>\n",
       "      <td>1</td>\n",
       "      <td>79890</td>\n",
       "      <td>0</td>\n",
       "      <td>1</td>\n",
       "      <td>0</td>\n",
       "      <td>0</td>\n",
       "      <td>0</td>\n",
       "      <td>0</td>\n",
       "      <td>0</td>\n",
       "    </tr>\n",
       "    <tr>\n",
       "      <th>5</th>\n",
       "      <td>Volkswagen</td>\n",
       "      <td>California</td>\n",
       "      <td>2021</td>\n",
       "      <td>9</td>\n",
       "      <td>114</td>\n",
       "      <td>1</td>\n",
       "      <td>44393</td>\n",
       "      <td>0</td>\n",
       "      <td>0</td>\n",
       "      <td>0</td>\n",
       "      <td>0</td>\n",
       "      <td>1</td>\n",
       "      <td>0</td>\n",
       "      <td>0</td>\n",
       "    </tr>\n",
       "    <tr>\n",
       "      <th>6</th>\n",
       "      <td>Volkswagen</td>\n",
       "      <td>T-Roc</td>\n",
       "      <td>2021</td>\n",
       "      <td>9</td>\n",
       "      <td>150</td>\n",
       "      <td>1</td>\n",
       "      <td>34895</td>\n",
       "      <td>0</td>\n",
       "      <td>0</td>\n",
       "      <td>0</td>\n",
       "      <td>0</td>\n",
       "      <td>1</td>\n",
       "      <td>0</td>\n",
       "      <td>0</td>\n",
       "    </tr>\n",
       "    <tr>\n",
       "      <th>7</th>\n",
       "      <td>Volkswagen</td>\n",
       "      <td>Golf Variant</td>\n",
       "      <td>2019</td>\n",
       "      <td>11</td>\n",
       "      <td>116</td>\n",
       "      <td>0</td>\n",
       "      <td>17590</td>\n",
       "      <td>0</td>\n",
       "      <td>1</td>\n",
       "      <td>0</td>\n",
       "      <td>0</td>\n",
       "      <td>0</td>\n",
       "      <td>0</td>\n",
       "      <td>0</td>\n",
       "    </tr>\n",
       "    <tr>\n",
       "      <th>8</th>\n",
       "      <td>Volkswagen</td>\n",
       "      <td>Polo</td>\n",
       "      <td>2018</td>\n",
       "      <td>10</td>\n",
       "      <td>116</td>\n",
       "      <td>1</td>\n",
       "      <td>18980</td>\n",
       "      <td>0</td>\n",
       "      <td>0</td>\n",
       "      <td>0</td>\n",
       "      <td>0</td>\n",
       "      <td>1</td>\n",
       "      <td>0</td>\n",
       "      <td>0</td>\n",
       "    </tr>\n",
       "    <tr>\n",
       "      <th>9</th>\n",
       "      <td>Volkswagen</td>\n",
       "      <td>Sharan</td>\n",
       "      <td>2020</td>\n",
       "      <td>10</td>\n",
       "      <td>177</td>\n",
       "      <td>1</td>\n",
       "      <td>44570</td>\n",
       "      <td>0</td>\n",
       "      <td>1</td>\n",
       "      <td>0</td>\n",
       "      <td>0</td>\n",
       "      <td>0</td>\n",
       "      <td>0</td>\n",
       "      <td>0</td>\n",
       "    </tr>\n",
       "    <tr>\n",
       "      <th>10</th>\n",
       "      <td>Volkswagen</td>\n",
       "      <td>T6 Multivan</td>\n",
       "      <td>2016</td>\n",
       "      <td>11</td>\n",
       "      <td>204</td>\n",
       "      <td>1</td>\n",
       "      <td>46710</td>\n",
       "      <td>0</td>\n",
       "      <td>1</td>\n",
       "      <td>0</td>\n",
       "      <td>0</td>\n",
       "      <td>0</td>\n",
       "      <td>0</td>\n",
       "      <td>0</td>\n",
       "    </tr>\n",
       "    <tr>\n",
       "      <th>11</th>\n",
       "      <td>Volkswagen</td>\n",
       "      <td>Passat Alltrack</td>\n",
       "      <td>2020</td>\n",
       "      <td>10</td>\n",
       "      <td>190</td>\n",
       "      <td>1</td>\n",
       "      <td>41930</td>\n",
       "      <td>0</td>\n",
       "      <td>1</td>\n",
       "      <td>0</td>\n",
       "      <td>0</td>\n",
       "      <td>0</td>\n",
       "      <td>0</td>\n",
       "      <td>0</td>\n",
       "    </tr>\n",
       "    <tr>\n",
       "      <th>12</th>\n",
       "      <td>Volkswagen</td>\n",
       "      <td>Golf</td>\n",
       "      <td>2016</td>\n",
       "      <td>11</td>\n",
       "      <td>150</td>\n",
       "      <td>0</td>\n",
       "      <td>13850</td>\n",
       "      <td>0</td>\n",
       "      <td>0</td>\n",
       "      <td>0</td>\n",
       "      <td>0</td>\n",
       "      <td>1</td>\n",
       "      <td>0</td>\n",
       "      <td>0</td>\n",
       "    </tr>\n",
       "    <tr>\n",
       "      <th>13</th>\n",
       "      <td>Volkswagen</td>\n",
       "      <td>Golf</td>\n",
       "      <td>2016</td>\n",
       "      <td>3</td>\n",
       "      <td>190</td>\n",
       "      <td>1</td>\n",
       "      <td>46757</td>\n",
       "      <td>0</td>\n",
       "      <td>0</td>\n",
       "      <td>0</td>\n",
       "      <td>0</td>\n",
       "      <td>1</td>\n",
       "      <td>0</td>\n",
       "      <td>0</td>\n",
       "    </tr>\n",
       "    <tr>\n",
       "      <th>14</th>\n",
       "      <td>Volkswagen</td>\n",
       "      <td>Polo</td>\n",
       "      <td>2021</td>\n",
       "      <td>8</td>\n",
       "      <td>95</td>\n",
       "      <td>1</td>\n",
       "      <td>25960</td>\n",
       "      <td>0</td>\n",
       "      <td>0</td>\n",
       "      <td>0</td>\n",
       "      <td>0</td>\n",
       "      <td>1</td>\n",
       "      <td>0</td>\n",
       "      <td>0</td>\n",
       "    </tr>\n",
       "    <tr>\n",
       "      <th>15</th>\n",
       "      <td>Volkswagen</td>\n",
       "      <td>California</td>\n",
       "      <td>2021</td>\n",
       "      <td>9</td>\n",
       "      <td>177</td>\n",
       "      <td>1</td>\n",
       "      <td>79960</td>\n",
       "      <td>0</td>\n",
       "      <td>1</td>\n",
       "      <td>0</td>\n",
       "      <td>0</td>\n",
       "      <td>0</td>\n",
       "      <td>0</td>\n",
       "      <td>0</td>\n",
       "    </tr>\n",
       "    <tr>\n",
       "      <th>16</th>\n",
       "      <td>Volkswagen</td>\n",
       "      <td>Golf</td>\n",
       "      <td>2019</td>\n",
       "      <td>10</td>\n",
       "      <td>245</td>\n",
       "      <td>1</td>\n",
       "      <td>27290</td>\n",
       "      <td>0</td>\n",
       "      <td>0</td>\n",
       "      <td>0</td>\n",
       "      <td>0</td>\n",
       "      <td>1</td>\n",
       "      <td>0</td>\n",
       "      <td>0</td>\n",
       "    </tr>\n",
       "    <tr>\n",
       "      <th>17</th>\n",
       "      <td>Volkswagen</td>\n",
       "      <td>Polo</td>\n",
       "      <td>2019</td>\n",
       "      <td>9</td>\n",
       "      <td>95</td>\n",
       "      <td>0</td>\n",
       "      <td>22580</td>\n",
       "      <td>0</td>\n",
       "      <td>0</td>\n",
       "      <td>0</td>\n",
       "      <td>0</td>\n",
       "      <td>1</td>\n",
       "      <td>0</td>\n",
       "      <td>0</td>\n",
       "    </tr>\n",
       "    <tr>\n",
       "      <th>18</th>\n",
       "      <td>Volkswagen</td>\n",
       "      <td>Tiguan</td>\n",
       "      <td>2018</td>\n",
       "      <td>11</td>\n",
       "      <td>150</td>\n",
       "      <td>1</td>\n",
       "      <td>29790</td>\n",
       "      <td>0</td>\n",
       "      <td>1</td>\n",
       "      <td>0</td>\n",
       "      <td>0</td>\n",
       "      <td>0</td>\n",
       "      <td>0</td>\n",
       "      <td>0</td>\n",
       "    </tr>\n",
       "    <tr>\n",
       "      <th>19</th>\n",
       "      <td>Volkswagen</td>\n",
       "      <td>Arteon</td>\n",
       "      <td>2022</td>\n",
       "      <td>8</td>\n",
       "      <td>150</td>\n",
       "      <td>1</td>\n",
       "      <td>59999</td>\n",
       "      <td>0</td>\n",
       "      <td>1</td>\n",
       "      <td>0</td>\n",
       "      <td>0</td>\n",
       "      <td>0</td>\n",
       "      <td>0</td>\n",
       "      <td>0</td>\n",
       "    </tr>\n",
       "    <tr>\n",
       "      <th>20</th>\n",
       "      <td>Volkswagen</td>\n",
       "      <td>T6</td>\n",
       "      <td>2022</td>\n",
       "      <td>9</td>\n",
       "      <td>110</td>\n",
       "      <td>0</td>\n",
       "      <td>44980</td>\n",
       "      <td>0</td>\n",
       "      <td>1</td>\n",
       "      <td>0</td>\n",
       "      <td>0</td>\n",
       "      <td>0</td>\n",
       "      <td>0</td>\n",
       "      <td>0</td>\n",
       "    </tr>\n",
       "    <tr>\n",
       "      <th>21</th>\n",
       "      <td>Volkswagen</td>\n",
       "      <td>Golf Variant</td>\n",
       "      <td>2020</td>\n",
       "      <td>9</td>\n",
       "      <td>300</td>\n",
       "      <td>1</td>\n",
       "      <td>45900</td>\n",
       "      <td>0</td>\n",
       "      <td>0</td>\n",
       "      <td>0</td>\n",
       "      <td>0</td>\n",
       "      <td>1</td>\n",
       "      <td>0</td>\n",
       "      <td>0</td>\n",
       "    </tr>\n",
       "    <tr>\n",
       "      <th>22</th>\n",
       "      <td>Volkswagen</td>\n",
       "      <td>T-Roc</td>\n",
       "      <td>2019</td>\n",
       "      <td>11</td>\n",
       "      <td>150</td>\n",
       "      <td>1</td>\n",
       "      <td>27060</td>\n",
       "      <td>0</td>\n",
       "      <td>1</td>\n",
       "      <td>0</td>\n",
       "      <td>0</td>\n",
       "      <td>0</td>\n",
       "      <td>0</td>\n",
       "      <td>0</td>\n",
       "    </tr>\n",
       "    <tr>\n",
       "      <th>23</th>\n",
       "      <td>Volkswagen</td>\n",
       "      <td>Golf</td>\n",
       "      <td>2017</td>\n",
       "      <td>11</td>\n",
       "      <td>150</td>\n",
       "      <td>1</td>\n",
       "      <td>19820</td>\n",
       "      <td>0</td>\n",
       "      <td>0</td>\n",
       "      <td>0</td>\n",
       "      <td>0</td>\n",
       "      <td>1</td>\n",
       "      <td>0</td>\n",
       "      <td>0</td>\n",
       "    </tr>\n",
       "    <tr>\n",
       "      <th>24</th>\n",
       "      <td>Volkswagen</td>\n",
       "      <td>Golf</td>\n",
       "      <td>2017</td>\n",
       "      <td>9</td>\n",
       "      <td>150</td>\n",
       "      <td>1</td>\n",
       "      <td>49762</td>\n",
       "      <td>1</td>\n",
       "      <td>0</td>\n",
       "      <td>0</td>\n",
       "      <td>0</td>\n",
       "      <td>0</td>\n",
       "      <td>0</td>\n",
       "      <td>0</td>\n",
       "    </tr>\n",
       "    <tr>\n",
       "      <th>25</th>\n",
       "      <td>Volkswagen</td>\n",
       "      <td>T6 California</td>\n",
       "      <td>2017</td>\n",
       "      <td>9</td>\n",
       "      <td>150</td>\n",
       "      <td>1</td>\n",
       "      <td>85990</td>\n",
       "      <td>0</td>\n",
       "      <td>1</td>\n",
       "      <td>0</td>\n",
       "      <td>0</td>\n",
       "      <td>0</td>\n",
       "      <td>0</td>\n",
       "      <td>0</td>\n",
       "    </tr>\n",
       "    <tr>\n",
       "      <th>26</th>\n",
       "      <td>Volkswagen</td>\n",
       "      <td>T6 Kombi</td>\n",
       "      <td>2019</td>\n",
       "      <td>10</td>\n",
       "      <td>102</td>\n",
       "      <td>0</td>\n",
       "      <td>29990</td>\n",
       "      <td>0</td>\n",
       "      <td>1</td>\n",
       "      <td>0</td>\n",
       "      <td>0</td>\n",
       "      <td>0</td>\n",
       "      <td>0</td>\n",
       "      <td>0</td>\n",
       "    </tr>\n",
       "    <tr>\n",
       "      <th>27</th>\n",
       "      <td>Volkswagen</td>\n",
       "      <td>T-Cross</td>\n",
       "      <td>2019</td>\n",
       "      <td>9</td>\n",
       "      <td>150</td>\n",
       "      <td>1</td>\n",
       "      <td>35450</td>\n",
       "      <td>0</td>\n",
       "      <td>0</td>\n",
       "      <td>0</td>\n",
       "      <td>0</td>\n",
       "      <td>1</td>\n",
       "      <td>0</td>\n",
       "      <td>0</td>\n",
       "    </tr>\n",
       "    <tr>\n",
       "      <th>28</th>\n",
       "      <td>Volkswagen</td>\n",
       "      <td>Golf</td>\n",
       "      <td>2022</td>\n",
       "      <td>8</td>\n",
       "      <td>116</td>\n",
       "      <td>0</td>\n",
       "      <td>26580</td>\n",
       "      <td>0</td>\n",
       "      <td>1</td>\n",
       "      <td>0</td>\n",
       "      <td>0</td>\n",
       "      <td>0</td>\n",
       "      <td>0</td>\n",
       "      <td>0</td>\n",
       "    </tr>\n",
       "    <tr>\n",
       "      <th>29</th>\n",
       "      <td>Volkswagen</td>\n",
       "      <td>Golf</td>\n",
       "      <td>2022</td>\n",
       "      <td>8</td>\n",
       "      <td>200</td>\n",
       "      <td>1</td>\n",
       "      <td>40390</td>\n",
       "      <td>0</td>\n",
       "      <td>1</td>\n",
       "      <td>0</td>\n",
       "      <td>0</td>\n",
       "      <td>0</td>\n",
       "      <td>0</td>\n",
       "      <td>0</td>\n",
       "    </tr>\n",
       "  </tbody>\n",
       "</table>\n",
       "</div>"
      ],
      "text/plain": [
       "          make            model  year  mileage   hp  gear  price  \\\n",
       "0   Volkswagen               up  2019       10   60     0  10190   \n",
       "1   Volkswagen             Polo  2022        4   95     0  24390   \n",
       "2   Volkswagen             Golf  2019       10  116     0  18630   \n",
       "3   Volkswagen           Tiguan  2019       10  150     1  29990   \n",
       "4   Volkswagen      T6 Multivan  2021        9  204     1  79890   \n",
       "5   Volkswagen       California  2021        9  114     1  44393   \n",
       "6   Volkswagen            T-Roc  2021        9  150     1  34895   \n",
       "7   Volkswagen     Golf Variant  2019       11  116     0  17590   \n",
       "8   Volkswagen             Polo  2018       10  116     1  18980   \n",
       "9   Volkswagen           Sharan  2020       10  177     1  44570   \n",
       "10  Volkswagen      T6 Multivan  2016       11  204     1  46710   \n",
       "11  Volkswagen  Passat Alltrack  2020       10  190     1  41930   \n",
       "12  Volkswagen             Golf  2016       11  150     0  13850   \n",
       "13  Volkswagen             Golf  2016        3  190     1  46757   \n",
       "14  Volkswagen             Polo  2021        8   95     1  25960   \n",
       "15  Volkswagen       California  2021        9  177     1  79960   \n",
       "16  Volkswagen             Golf  2019       10  245     1  27290   \n",
       "17  Volkswagen             Polo  2019        9   95     0  22580   \n",
       "18  Volkswagen           Tiguan  2018       11  150     1  29790   \n",
       "19  Volkswagen           Arteon  2022        8  150     1  59999   \n",
       "20  Volkswagen               T6  2022        9  110     0  44980   \n",
       "21  Volkswagen     Golf Variant  2020        9  300     1  45900   \n",
       "22  Volkswagen            T-Roc  2019       11  150     1  27060   \n",
       "23  Volkswagen             Golf  2017       11  150     1  19820   \n",
       "24  Volkswagen             Golf  2017        9  150     1  49762   \n",
       "25  Volkswagen    T6 California  2017        9  150     1  85990   \n",
       "26  Volkswagen         T6 Kombi  2019       10  102     0  29990   \n",
       "27  Volkswagen          T-Cross  2019        9  150     1  35450   \n",
       "28  Volkswagen             Golf  2022        8  116     0  26580   \n",
       "29  Volkswagen             Golf  2022        8  200     1  40390   \n",
       "\n",
       "    fuel_Hybrid - gasoline  fuel_diesel  fuel_electric  fuel_gas  \\\n",
       "0                        0            0              0         0   \n",
       "1                        0            0              0         0   \n",
       "2                        0            1              0         0   \n",
       "3                        0            1              0         0   \n",
       "4                        0            1              0         0   \n",
       "5                        0            0              0         0   \n",
       "6                        0            0              0         0   \n",
       "7                        0            1              0         0   \n",
       "8                        0            0              0         0   \n",
       "9                        0            1              0         0   \n",
       "10                       0            1              0         0   \n",
       "11                       0            1              0         0   \n",
       "12                       0            0              0         0   \n",
       "13                       0            0              0         0   \n",
       "14                       0            0              0         0   \n",
       "15                       0            1              0         0   \n",
       "16                       0            0              0         0   \n",
       "17                       0            0              0         0   \n",
       "18                       0            1              0         0   \n",
       "19                       0            1              0         0   \n",
       "20                       0            1              0         0   \n",
       "21                       0            0              0         0   \n",
       "22                       0            1              0         0   \n",
       "23                       0            0              0         0   \n",
       "24                       1            0              0         0   \n",
       "25                       0            1              0         0   \n",
       "26                       0            1              0         0   \n",
       "27                       0            0              0         0   \n",
       "28                       0            1              0         0   \n",
       "29                       0            1              0         0   \n",
       "\n",
       "    fuel_gasoline  fuel_hybrid - diesel  fuel_other  \n",
       "0               1                     0           0  \n",
       "1               1                     0           0  \n",
       "2               0                     0           0  \n",
       "3               0                     0           0  \n",
       "4               0                     0           0  \n",
       "5               1                     0           0  \n",
       "6               1                     0           0  \n",
       "7               0                     0           0  \n",
       "8               1                     0           0  \n",
       "9               0                     0           0  \n",
       "10              0                     0           0  \n",
       "11              0                     0           0  \n",
       "12              1                     0           0  \n",
       "13              1                     0           0  \n",
       "14              1                     0           0  \n",
       "15              0                     0           0  \n",
       "16              1                     0           0  \n",
       "17              1                     0           0  \n",
       "18              0                     0           0  \n",
       "19              0                     0           0  \n",
       "20              0                     0           0  \n",
       "21              1                     0           0  \n",
       "22              0                     0           0  \n",
       "23              1                     0           0  \n",
       "24              0                     0           0  \n",
       "25              0                     0           0  \n",
       "26              0                     0           0  \n",
       "27              1                     0           0  \n",
       "28              0                     0           0  \n",
       "29              0                     0           0  "
      ]
     },
     "execution_count": 146,
     "metadata": {},
     "output_type": "execute_result"
    }
   ],
   "source": [
    "df.head(30)"
   ]
  },
  {
   "cell_type": "code",
   "execution_count": 147,
   "id": "cee67eae",
   "metadata": {},
   "outputs": [
    {
     "ename": "IndexError",
     "evalue": "Inconsistent shape between the condition and the input (got (12, 1) and (12,))",
     "output_type": "error",
     "traceback": [
      "\u001b[1;31m---------------------------------------------------------------------------\u001b[0m",
      "\u001b[1;31mIndexError\u001b[0m                                Traceback (most recent call last)",
      "Input \u001b[1;32mIn [147]\u001b[0m, in \u001b[0;36m<cell line: 2>\u001b[1;34m()\u001b[0m\n\u001b[0;32m      1\u001b[0m \u001b[38;5;66;03m# plt.figure(figsize=(15,10))\u001b[39;00m\n\u001b[1;32m----> 2\u001b[0m \u001b[43msns\u001b[49m\u001b[38;5;241;43m.\u001b[39;49m\u001b[43mheatmap\u001b[49m\u001b[43m(\u001b[49m\u001b[43mcorrelation\u001b[49m\u001b[38;5;241;43m.\u001b[39;49m\u001b[43mT\u001b[49m\u001b[43m,\u001b[49m\u001b[43mannot\u001b[49m\u001b[38;5;241;43m=\u001b[39;49m\u001b[38;5;28;43;01mTrue\u001b[39;49;00m\u001b[43m)\u001b[49m\n",
      "File \u001b[1;32m~\\AppData\\Local\\Programs\\Python\\Python310\\lib\\site-packages\\seaborn\\matrix.py:446\u001b[0m, in \u001b[0;36mheatmap\u001b[1;34m(data, vmin, vmax, cmap, center, robust, annot, fmt, annot_kws, linewidths, linecolor, cbar, cbar_kws, cbar_ax, square, xticklabels, yticklabels, mask, ax, **kwargs)\u001b[0m\n\u001b[0;32m    365\u001b[0m \u001b[38;5;124;03m\"\"\"Plot rectangular data as a color-encoded matrix.\u001b[39;00m\n\u001b[0;32m    366\u001b[0m \n\u001b[0;32m    367\u001b[0m \u001b[38;5;124;03mThis is an Axes-level function and will draw the heatmap into the\u001b[39;00m\n\u001b[1;32m   (...)\u001b[0m\n\u001b[0;32m    443\u001b[0m \n\u001b[0;32m    444\u001b[0m \u001b[38;5;124;03m\"\"\"\u001b[39;00m\n\u001b[0;32m    445\u001b[0m \u001b[38;5;66;03m# Initialize the plotter object\u001b[39;00m\n\u001b[1;32m--> 446\u001b[0m plotter \u001b[38;5;241m=\u001b[39m \u001b[43m_HeatMapper\u001b[49m\u001b[43m(\u001b[49m\u001b[43mdata\u001b[49m\u001b[43m,\u001b[49m\u001b[43m \u001b[49m\u001b[43mvmin\u001b[49m\u001b[43m,\u001b[49m\u001b[43m \u001b[49m\u001b[43mvmax\u001b[49m\u001b[43m,\u001b[49m\u001b[43m \u001b[49m\u001b[43mcmap\u001b[49m\u001b[43m,\u001b[49m\u001b[43m \u001b[49m\u001b[43mcenter\u001b[49m\u001b[43m,\u001b[49m\u001b[43m \u001b[49m\u001b[43mrobust\u001b[49m\u001b[43m,\u001b[49m\u001b[43m \u001b[49m\u001b[43mannot\u001b[49m\u001b[43m,\u001b[49m\u001b[43m \u001b[49m\u001b[43mfmt\u001b[49m\u001b[43m,\u001b[49m\n\u001b[0;32m    447\u001b[0m \u001b[43m                      \u001b[49m\u001b[43mannot_kws\u001b[49m\u001b[43m,\u001b[49m\u001b[43m \u001b[49m\u001b[43mcbar\u001b[49m\u001b[43m,\u001b[49m\u001b[43m \u001b[49m\u001b[43mcbar_kws\u001b[49m\u001b[43m,\u001b[49m\u001b[43m \u001b[49m\u001b[43mxticklabels\u001b[49m\u001b[43m,\u001b[49m\n\u001b[0;32m    448\u001b[0m \u001b[43m                      \u001b[49m\u001b[43myticklabels\u001b[49m\u001b[43m,\u001b[49m\u001b[43m \u001b[49m\u001b[43mmask\u001b[49m\u001b[43m)\u001b[49m\n\u001b[0;32m    450\u001b[0m \u001b[38;5;66;03m# Add the pcolormesh kwargs here\u001b[39;00m\n\u001b[0;32m    451\u001b[0m kwargs[\u001b[38;5;124m\"\u001b[39m\u001b[38;5;124mlinewidths\u001b[39m\u001b[38;5;124m\"\u001b[39m] \u001b[38;5;241m=\u001b[39m linewidths\n",
      "File \u001b[1;32m~\\AppData\\Local\\Programs\\Python\\Python310\\lib\\site-packages\\seaborn\\matrix.py:115\u001b[0m, in \u001b[0;36m_HeatMapper.__init__\u001b[1;34m(self, data, vmin, vmax, cmap, center, robust, annot, fmt, annot_kws, cbar, cbar_kws, xticklabels, yticklabels, mask)\u001b[0m\n\u001b[0;32m    112\u001b[0m \u001b[38;5;66;03m# Validate the mask and convert to DataFrame\u001b[39;00m\n\u001b[0;32m    113\u001b[0m mask \u001b[38;5;241m=\u001b[39m _matrix_mask(data, mask)\n\u001b[1;32m--> 115\u001b[0m plot_data \u001b[38;5;241m=\u001b[39m \u001b[43mnp\u001b[49m\u001b[38;5;241;43m.\u001b[39;49m\u001b[43mma\u001b[49m\u001b[38;5;241;43m.\u001b[39;49m\u001b[43mmasked_where\u001b[49m\u001b[43m(\u001b[49m\u001b[43mnp\u001b[49m\u001b[38;5;241;43m.\u001b[39;49m\u001b[43masarray\u001b[49m\u001b[43m(\u001b[49m\u001b[43mmask\u001b[49m\u001b[43m)\u001b[49m\u001b[43m,\u001b[49m\u001b[43m \u001b[49m\u001b[43mplot_data\u001b[49m\u001b[43m)\u001b[49m\n\u001b[0;32m    117\u001b[0m \u001b[38;5;66;03m# Get good names for the rows and columns\u001b[39;00m\n\u001b[0;32m    118\u001b[0m xtickevery \u001b[38;5;241m=\u001b[39m \u001b[38;5;241m1\u001b[39m\n",
      "File \u001b[1;32m~\\AppData\\Local\\Programs\\Python\\Python310\\lib\\site-packages\\numpy\\ma\\core.py:1926\u001b[0m, in \u001b[0;36mmasked_where\u001b[1;34m(condition, a, copy)\u001b[0m\n\u001b[0;32m   1924\u001b[0m (cshape, ashape) \u001b[38;5;241m=\u001b[39m (cond\u001b[38;5;241m.\u001b[39mshape, a\u001b[38;5;241m.\u001b[39mshape)\n\u001b[0;32m   1925\u001b[0m \u001b[38;5;28;01mif\u001b[39;00m cshape \u001b[38;5;129;01mand\u001b[39;00m cshape \u001b[38;5;241m!=\u001b[39m ashape:\n\u001b[1;32m-> 1926\u001b[0m     \u001b[38;5;28;01mraise\u001b[39;00m \u001b[38;5;167;01mIndexError\u001b[39;00m(\u001b[38;5;124m\"\u001b[39m\u001b[38;5;124mInconsistent shape between the condition and the input\u001b[39m\u001b[38;5;124m\"\u001b[39m\n\u001b[0;32m   1927\u001b[0m                      \u001b[38;5;124m\"\u001b[39m\u001b[38;5;124m (got \u001b[39m\u001b[38;5;132;01m%s\u001b[39;00m\u001b[38;5;124m and \u001b[39m\u001b[38;5;132;01m%s\u001b[39;00m\u001b[38;5;124m)\u001b[39m\u001b[38;5;124m\"\u001b[39m \u001b[38;5;241m%\u001b[39m (cshape, ashape))\n\u001b[0;32m   1928\u001b[0m \u001b[38;5;28;01mif\u001b[39;00m \u001b[38;5;28mhasattr\u001b[39m(a, \u001b[38;5;124m'\u001b[39m\u001b[38;5;124m_mask\u001b[39m\u001b[38;5;124m'\u001b[39m):\n\u001b[0;32m   1929\u001b[0m     cond \u001b[38;5;241m=\u001b[39m mask_or(cond, a\u001b[38;5;241m.\u001b[39m_mask)\n",
      "\u001b[1;31mIndexError\u001b[0m: Inconsistent shape between the condition and the input (got (12, 1) and (12,))"
     ]
    }
   ],
   "source": [
    "# plt.figure(figsize=(15,10))\n",
    "sns.heatmap(correlation.T,annot=True)"
   ]
  },
  {
   "cell_type": "code",
   "execution_count": 148,
   "id": "f5eca8b7",
   "metadata": {
    "scrolled": false
   },
   "outputs": [
    {
     "data": {
      "text/plain": [
       "year       0.159435\n",
       "mileage   -0.078075\n",
       "hp         0.757795\n",
       "gear       0.391298\n",
       "price      1.000000\n",
       "Name: price, dtype: float64"
      ]
     },
     "execution_count": 148,
     "metadata": {},
     "output_type": "execute_result"
    }
   ],
   "source": [
    "correlation = correlation.head()\n",
    "correlation"
   ]
  },
  {
   "cell_type": "code",
   "execution_count": 160,
   "id": "7c50a2c0",
   "metadata": {},
   "outputs": [
    {
     "data": {
      "text/plain": [
       "Index(['make', 'model', 'year', 'mileage', 'hp', 'gear', 'price',\n",
       "       'fuel_Hybrid - gasoline', 'fuel_diesel', 'fuel_electric', 'fuel_gas',\n",
       "       'fuel_gasoline', 'fuel_hybrid - diesel', 'fuel_other'],\n",
       "      dtype='object')"
      ]
     },
     "execution_count": 160,
     "metadata": {},
     "output_type": "execute_result"
    }
   ],
   "source": [
    "df.columns"
   ]
  },
  {
   "cell_type": "code",
   "execution_count": null,
   "id": "55c4b58e",
   "metadata": {},
   "outputs": [],
   "source": []
  },
  {
   "cell_type": "code",
   "execution_count": 175,
   "id": "26d312f4",
   "metadata": {
    "scrolled": true
   },
   "outputs": [
    {
     "data": {
      "text/html": [
       "<div>\n",
       "<style scoped>\n",
       "    .dataframe tbody tr th:only-of-type {\n",
       "        vertical-align: middle;\n",
       "    }\n",
       "\n",
       "    .dataframe tbody tr th {\n",
       "        vertical-align: top;\n",
       "    }\n",
       "\n",
       "    .dataframe thead th {\n",
       "        text-align: right;\n",
       "    }\n",
       "</style>\n",
       "<table border=\"1\" class=\"dataframe\">\n",
       "  <thead>\n",
       "    <tr style=\"text-align: right;\">\n",
       "      <th></th>\n",
       "      <th>year</th>\n",
       "      <th>mileage</th>\n",
       "      <th>hp</th>\n",
       "      <th>gear</th>\n",
       "      <th>price</th>\n",
       "    </tr>\n",
       "  </thead>\n",
       "  <tbody>\n",
       "    <tr>\n",
       "      <th>0</th>\n",
       "      <td>2019</td>\n",
       "      <td>10</td>\n",
       "      <td>60</td>\n",
       "      <td>0</td>\n",
       "      <td>10190</td>\n",
       "    </tr>\n",
       "    <tr>\n",
       "      <th>1</th>\n",
       "      <td>2022</td>\n",
       "      <td>4</td>\n",
       "      <td>95</td>\n",
       "      <td>0</td>\n",
       "      <td>24390</td>\n",
       "    </tr>\n",
       "    <tr>\n",
       "      <th>2</th>\n",
       "      <td>2019</td>\n",
       "      <td>10</td>\n",
       "      <td>116</td>\n",
       "      <td>0</td>\n",
       "      <td>18630</td>\n",
       "    </tr>\n",
       "    <tr>\n",
       "      <th>3</th>\n",
       "      <td>2019</td>\n",
       "      <td>10</td>\n",
       "      <td>150</td>\n",
       "      <td>1</td>\n",
       "      <td>29990</td>\n",
       "    </tr>\n",
       "    <tr>\n",
       "      <th>4</th>\n",
       "      <td>2021</td>\n",
       "      <td>9</td>\n",
       "      <td>204</td>\n",
       "      <td>1</td>\n",
       "      <td>79890</td>\n",
       "    </tr>\n",
       "    <tr>\n",
       "      <th>5</th>\n",
       "      <td>2021</td>\n",
       "      <td>9</td>\n",
       "      <td>114</td>\n",
       "      <td>1</td>\n",
       "      <td>44393</td>\n",
       "    </tr>\n",
       "    <tr>\n",
       "      <th>6</th>\n",
       "      <td>2021</td>\n",
       "      <td>9</td>\n",
       "      <td>150</td>\n",
       "      <td>1</td>\n",
       "      <td>34895</td>\n",
       "    </tr>\n",
       "    <tr>\n",
       "      <th>7</th>\n",
       "      <td>2019</td>\n",
       "      <td>11</td>\n",
       "      <td>116</td>\n",
       "      <td>0</td>\n",
       "      <td>17590</td>\n",
       "    </tr>\n",
       "    <tr>\n",
       "      <th>8</th>\n",
       "      <td>2018</td>\n",
       "      <td>10</td>\n",
       "      <td>116</td>\n",
       "      <td>1</td>\n",
       "      <td>18980</td>\n",
       "    </tr>\n",
       "    <tr>\n",
       "      <th>9</th>\n",
       "      <td>2020</td>\n",
       "      <td>10</td>\n",
       "      <td>177</td>\n",
       "      <td>1</td>\n",
       "      <td>44570</td>\n",
       "    </tr>\n",
       "    <tr>\n",
       "      <th>10</th>\n",
       "      <td>2016</td>\n",
       "      <td>11</td>\n",
       "      <td>204</td>\n",
       "      <td>1</td>\n",
       "      <td>46710</td>\n",
       "    </tr>\n",
       "    <tr>\n",
       "      <th>11</th>\n",
       "      <td>2020</td>\n",
       "      <td>10</td>\n",
       "      <td>190</td>\n",
       "      <td>1</td>\n",
       "      <td>41930</td>\n",
       "    </tr>\n",
       "    <tr>\n",
       "      <th>12</th>\n",
       "      <td>2016</td>\n",
       "      <td>11</td>\n",
       "      <td>150</td>\n",
       "      <td>0</td>\n",
       "      <td>13850</td>\n",
       "    </tr>\n",
       "    <tr>\n",
       "      <th>13</th>\n",
       "      <td>2016</td>\n",
       "      <td>3</td>\n",
       "      <td>190</td>\n",
       "      <td>1</td>\n",
       "      <td>46757</td>\n",
       "    </tr>\n",
       "    <tr>\n",
       "      <th>14</th>\n",
       "      <td>2021</td>\n",
       "      <td>8</td>\n",
       "      <td>95</td>\n",
       "      <td>1</td>\n",
       "      <td>25960</td>\n",
       "    </tr>\n",
       "    <tr>\n",
       "      <th>15</th>\n",
       "      <td>2021</td>\n",
       "      <td>9</td>\n",
       "      <td>177</td>\n",
       "      <td>1</td>\n",
       "      <td>79960</td>\n",
       "    </tr>\n",
       "    <tr>\n",
       "      <th>16</th>\n",
       "      <td>2019</td>\n",
       "      <td>10</td>\n",
       "      <td>245</td>\n",
       "      <td>1</td>\n",
       "      <td>27290</td>\n",
       "    </tr>\n",
       "    <tr>\n",
       "      <th>17</th>\n",
       "      <td>2019</td>\n",
       "      <td>9</td>\n",
       "      <td>95</td>\n",
       "      <td>0</td>\n",
       "      <td>22580</td>\n",
       "    </tr>\n",
       "    <tr>\n",
       "      <th>18</th>\n",
       "      <td>2018</td>\n",
       "      <td>11</td>\n",
       "      <td>150</td>\n",
       "      <td>1</td>\n",
       "      <td>29790</td>\n",
       "    </tr>\n",
       "    <tr>\n",
       "      <th>19</th>\n",
       "      <td>2022</td>\n",
       "      <td>8</td>\n",
       "      <td>150</td>\n",
       "      <td>1</td>\n",
       "      <td>59999</td>\n",
       "    </tr>\n",
       "    <tr>\n",
       "      <th>20</th>\n",
       "      <td>2022</td>\n",
       "      <td>9</td>\n",
       "      <td>110</td>\n",
       "      <td>0</td>\n",
       "      <td>44980</td>\n",
       "    </tr>\n",
       "    <tr>\n",
       "      <th>21</th>\n",
       "      <td>2020</td>\n",
       "      <td>9</td>\n",
       "      <td>300</td>\n",
       "      <td>1</td>\n",
       "      <td>45900</td>\n",
       "    </tr>\n",
       "    <tr>\n",
       "      <th>22</th>\n",
       "      <td>2019</td>\n",
       "      <td>11</td>\n",
       "      <td>150</td>\n",
       "      <td>1</td>\n",
       "      <td>27060</td>\n",
       "    </tr>\n",
       "    <tr>\n",
       "      <th>23</th>\n",
       "      <td>2017</td>\n",
       "      <td>11</td>\n",
       "      <td>150</td>\n",
       "      <td>1</td>\n",
       "      <td>19820</td>\n",
       "    </tr>\n",
       "    <tr>\n",
       "      <th>24</th>\n",
       "      <td>2017</td>\n",
       "      <td>9</td>\n",
       "      <td>150</td>\n",
       "      <td>1</td>\n",
       "      <td>49762</td>\n",
       "    </tr>\n",
       "    <tr>\n",
       "      <th>25</th>\n",
       "      <td>2017</td>\n",
       "      <td>9</td>\n",
       "      <td>150</td>\n",
       "      <td>1</td>\n",
       "      <td>85990</td>\n",
       "    </tr>\n",
       "    <tr>\n",
       "      <th>26</th>\n",
       "      <td>2019</td>\n",
       "      <td>10</td>\n",
       "      <td>102</td>\n",
       "      <td>0</td>\n",
       "      <td>29990</td>\n",
       "    </tr>\n",
       "    <tr>\n",
       "      <th>27</th>\n",
       "      <td>2019</td>\n",
       "      <td>9</td>\n",
       "      <td>150</td>\n",
       "      <td>1</td>\n",
       "      <td>35450</td>\n",
       "    </tr>\n",
       "    <tr>\n",
       "      <th>28</th>\n",
       "      <td>2022</td>\n",
       "      <td>8</td>\n",
       "      <td>116</td>\n",
       "      <td>0</td>\n",
       "      <td>26580</td>\n",
       "    </tr>\n",
       "    <tr>\n",
       "      <th>29</th>\n",
       "      <td>2022</td>\n",
       "      <td>8</td>\n",
       "      <td>200</td>\n",
       "      <td>1</td>\n",
       "      <td>40390</td>\n",
       "    </tr>\n",
       "  </tbody>\n",
       "</table>\n",
       "</div>"
      ],
      "text/plain": [
       "    year  mileage   hp  gear  price\n",
       "0   2019       10   60     0  10190\n",
       "1   2022        4   95     0  24390\n",
       "2   2019       10  116     0  18630\n",
       "3   2019       10  150     1  29990\n",
       "4   2021        9  204     1  79890\n",
       "5   2021        9  114     1  44393\n",
       "6   2021        9  150     1  34895\n",
       "7   2019       11  116     0  17590\n",
       "8   2018       10  116     1  18980\n",
       "9   2020       10  177     1  44570\n",
       "10  2016       11  204     1  46710\n",
       "11  2020       10  190     1  41930\n",
       "12  2016       11  150     0  13850\n",
       "13  2016        3  190     1  46757\n",
       "14  2021        8   95     1  25960\n",
       "15  2021        9  177     1  79960\n",
       "16  2019       10  245     1  27290\n",
       "17  2019        9   95     0  22580\n",
       "18  2018       11  150     1  29790\n",
       "19  2022        8  150     1  59999\n",
       "20  2022        9  110     0  44980\n",
       "21  2020        9  300     1  45900\n",
       "22  2019       11  150     1  27060\n",
       "23  2017       11  150     1  19820\n",
       "24  2017        9  150     1  49762\n",
       "25  2017        9  150     1  85990\n",
       "26  2019       10  102     0  29990\n",
       "27  2019        9  150     1  35450\n",
       "28  2022        8  116     0  26580\n",
       "29  2022        8  200     1  40390"
      ]
     },
     "execution_count": 175,
     "metadata": {},
     "output_type": "execute_result"
    }
   ],
   "source": [
    "df1 = df[[\"year\",\"mileage\",\"hp\",\"gear\",\"price\"]]\n",
    "df1.head(30)"
   ]
  },
  {
   "cell_type": "code",
   "execution_count": 168,
   "id": "e183a397",
   "metadata": {},
   "outputs": [
    {
     "data": {
      "text/html": [
       "<div>\n",
       "<style scoped>\n",
       "    .dataframe tbody tr th:only-of-type {\n",
       "        vertical-align: middle;\n",
       "    }\n",
       "\n",
       "    .dataframe tbody tr th {\n",
       "        vertical-align: top;\n",
       "    }\n",
       "\n",
       "    .dataframe thead th {\n",
       "        text-align: right;\n",
       "    }\n",
       "</style>\n",
       "<table border=\"1\" class=\"dataframe\">\n",
       "  <thead>\n",
       "    <tr style=\"text-align: right;\">\n",
       "      <th></th>\n",
       "      <th>make</th>\n",
       "      <th>model</th>\n",
       "      <th>year</th>\n",
       "      <th>mileage</th>\n",
       "      <th>hp</th>\n",
       "      <th>gear</th>\n",
       "      <th>price</th>\n",
       "      <th>fuel_Hybrid - gasoline</th>\n",
       "      <th>fuel_diesel</th>\n",
       "      <th>fuel_electric</th>\n",
       "      <th>fuel_gas</th>\n",
       "      <th>fuel_gasoline</th>\n",
       "      <th>fuel_hybrid - diesel</th>\n",
       "      <th>fuel_other</th>\n",
       "    </tr>\n",
       "  </thead>\n",
       "  <tbody>\n",
       "    <tr>\n",
       "      <th>0</th>\n",
       "      <td>Volkswagen</td>\n",
       "      <td>up</td>\n",
       "      <td>2019</td>\n",
       "      <td>10</td>\n",
       "      <td>60</td>\n",
       "      <td>0</td>\n",
       "      <td>10190</td>\n",
       "      <td>0</td>\n",
       "      <td>0</td>\n",
       "      <td>0</td>\n",
       "      <td>0</td>\n",
       "      <td>1</td>\n",
       "      <td>0</td>\n",
       "      <td>0</td>\n",
       "    </tr>\n",
       "    <tr>\n",
       "      <th>1</th>\n",
       "      <td>Volkswagen</td>\n",
       "      <td>Polo</td>\n",
       "      <td>2022</td>\n",
       "      <td>4</td>\n",
       "      <td>95</td>\n",
       "      <td>0</td>\n",
       "      <td>24390</td>\n",
       "      <td>0</td>\n",
       "      <td>0</td>\n",
       "      <td>0</td>\n",
       "      <td>0</td>\n",
       "      <td>1</td>\n",
       "      <td>0</td>\n",
       "      <td>0</td>\n",
       "    </tr>\n",
       "    <tr>\n",
       "      <th>2</th>\n",
       "      <td>Volkswagen</td>\n",
       "      <td>Golf</td>\n",
       "      <td>2019</td>\n",
       "      <td>10</td>\n",
       "      <td>116</td>\n",
       "      <td>0</td>\n",
       "      <td>18630</td>\n",
       "      <td>0</td>\n",
       "      <td>1</td>\n",
       "      <td>0</td>\n",
       "      <td>0</td>\n",
       "      <td>0</td>\n",
       "      <td>0</td>\n",
       "      <td>0</td>\n",
       "    </tr>\n",
       "    <tr>\n",
       "      <th>3</th>\n",
       "      <td>Volkswagen</td>\n",
       "      <td>Tiguan</td>\n",
       "      <td>2019</td>\n",
       "      <td>10</td>\n",
       "      <td>150</td>\n",
       "      <td>1</td>\n",
       "      <td>29990</td>\n",
       "      <td>0</td>\n",
       "      <td>1</td>\n",
       "      <td>0</td>\n",
       "      <td>0</td>\n",
       "      <td>0</td>\n",
       "      <td>0</td>\n",
       "      <td>0</td>\n",
       "    </tr>\n",
       "    <tr>\n",
       "      <th>4</th>\n",
       "      <td>Volkswagen</td>\n",
       "      <td>T6 Multivan</td>\n",
       "      <td>2021</td>\n",
       "      <td>9</td>\n",
       "      <td>204</td>\n",
       "      <td>1</td>\n",
       "      <td>79890</td>\n",
       "      <td>0</td>\n",
       "      <td>1</td>\n",
       "      <td>0</td>\n",
       "      <td>0</td>\n",
       "      <td>0</td>\n",
       "      <td>0</td>\n",
       "      <td>0</td>\n",
       "    </tr>\n",
       "    <tr>\n",
       "      <th>...</th>\n",
       "      <td>...</td>\n",
       "      <td>...</td>\n",
       "      <td>...</td>\n",
       "      <td>...</td>\n",
       "      <td>...</td>\n",
       "      <td>...</td>\n",
       "      <td>...</td>\n",
       "      <td>...</td>\n",
       "      <td>...</td>\n",
       "      <td>...</td>\n",
       "      <td>...</td>\n",
       "      <td>...</td>\n",
       "      <td>...</td>\n",
       "      <td>...</td>\n",
       "    </tr>\n",
       "    <tr>\n",
       "      <th>144835</th>\n",
       "      <td>Volvo</td>\n",
       "      <td>XC 60</td>\n",
       "      <td>2022</td>\n",
       "      <td>9</td>\n",
       "      <td>197</td>\n",
       "      <td>1</td>\n",
       "      <td>61900</td>\n",
       "      <td>0</td>\n",
       "      <td>0</td>\n",
       "      <td>0</td>\n",
       "      <td>0</td>\n",
       "      <td>1</td>\n",
       "      <td>0</td>\n",
       "      <td>0</td>\n",
       "    </tr>\n",
       "    <tr>\n",
       "      <th>144836</th>\n",
       "      <td>Volvo</td>\n",
       "      <td>XC 60</td>\n",
       "      <td>2022</td>\n",
       "      <td>9</td>\n",
       "      <td>197</td>\n",
       "      <td>1</td>\n",
       "      <td>61390</td>\n",
       "      <td>0</td>\n",
       "      <td>1</td>\n",
       "      <td>0</td>\n",
       "      <td>0</td>\n",
       "      <td>0</td>\n",
       "      <td>0</td>\n",
       "      <td>0</td>\n",
       "    </tr>\n",
       "    <tr>\n",
       "      <th>144837</th>\n",
       "      <td>Volvo</td>\n",
       "      <td>XC 60</td>\n",
       "      <td>2019</td>\n",
       "      <td>11</td>\n",
       "      <td>235</td>\n",
       "      <td>1</td>\n",
       "      <td>34880</td>\n",
       "      <td>0</td>\n",
       "      <td>1</td>\n",
       "      <td>0</td>\n",
       "      <td>0</td>\n",
       "      <td>0</td>\n",
       "      <td>0</td>\n",
       "      <td>0</td>\n",
       "    </tr>\n",
       "    <tr>\n",
       "      <th>144838</th>\n",
       "      <td>Volvo</td>\n",
       "      <td>XC 60</td>\n",
       "      <td>2019</td>\n",
       "      <td>9</td>\n",
       "      <td>197</td>\n",
       "      <td>1</td>\n",
       "      <td>58990</td>\n",
       "      <td>0</td>\n",
       "      <td>1</td>\n",
       "      <td>0</td>\n",
       "      <td>0</td>\n",
       "      <td>0</td>\n",
       "      <td>0</td>\n",
       "      <td>0</td>\n",
       "    </tr>\n",
       "    <tr>\n",
       "      <th>144839</th>\n",
       "      <td>Volvo</td>\n",
       "      <td>XC 90</td>\n",
       "      <td>2021</td>\n",
       "      <td>9</td>\n",
       "      <td>235</td>\n",
       "      <td>1</td>\n",
       "      <td>93000</td>\n",
       "      <td>0</td>\n",
       "      <td>1</td>\n",
       "      <td>0</td>\n",
       "      <td>0</td>\n",
       "      <td>0</td>\n",
       "      <td>0</td>\n",
       "      <td>0</td>\n",
       "    </tr>\n",
       "  </tbody>\n",
       "</table>\n",
       "<p>144840 rows × 14 columns</p>\n",
       "</div>"
      ],
      "text/plain": [
       "              make        model  year  mileage   hp  gear  price  \\\n",
       "0       Volkswagen           up  2019       10   60     0  10190   \n",
       "1       Volkswagen         Polo  2022        4   95     0  24390   \n",
       "2       Volkswagen         Golf  2019       10  116     0  18630   \n",
       "3       Volkswagen       Tiguan  2019       10  150     1  29990   \n",
       "4       Volkswagen  T6 Multivan  2021        9  204     1  79890   \n",
       "...            ...          ...   ...      ...  ...   ...    ...   \n",
       "144835       Volvo        XC 60  2022        9  197     1  61900   \n",
       "144836       Volvo        XC 60  2022        9  197     1  61390   \n",
       "144837       Volvo        XC 60  2019       11  235     1  34880   \n",
       "144838       Volvo        XC 60  2019        9  197     1  58990   \n",
       "144839       Volvo        XC 90  2021        9  235     1  93000   \n",
       "\n",
       "        fuel_Hybrid - gasoline  fuel_diesel  fuel_electric  fuel_gas  \\\n",
       "0                            0            0              0         0   \n",
       "1                            0            0              0         0   \n",
       "2                            0            1              0         0   \n",
       "3                            0            1              0         0   \n",
       "4                            0            1              0         0   \n",
       "...                        ...          ...            ...       ...   \n",
       "144835                       0            0              0         0   \n",
       "144836                       0            1              0         0   \n",
       "144837                       0            1              0         0   \n",
       "144838                       0            1              0         0   \n",
       "144839                       0            1              0         0   \n",
       "\n",
       "        fuel_gasoline  fuel_hybrid - diesel  fuel_other  \n",
       "0                   1                     0           0  \n",
       "1                   1                     0           0  \n",
       "2                   0                     0           0  \n",
       "3                   0                     0           0  \n",
       "4                   0                     0           0  \n",
       "...               ...                   ...         ...  \n",
       "144835              1                     0           0  \n",
       "144836              0                     0           0  \n",
       "144837              0                     0           0  \n",
       "144838              0                     0           0  \n",
       "144839              0                     0           0  \n",
       "\n",
       "[144840 rows x 14 columns]"
      ]
     },
     "execution_count": 168,
     "metadata": {},
     "output_type": "execute_result"
    }
   ],
   "source": [
    "df"
   ]
  },
  {
   "cell_type": "code",
   "execution_count": 177,
   "id": "c6aa1e0a",
   "metadata": {},
   "outputs": [
    {
     "name": "stdout",
     "output_type": "stream",
     "text": [
      "VIF of year :  11.996716654858828\n",
      "VIF of mileage :  8.926291010465583\n",
      "VIF of hp :  12.9092156928646\n",
      "VIF of gear :  3.5549513789301646\n"
     ]
    }
   ],
   "source": [
    "for i in range(df1.shape[1]-1):\n",
    "    vif = variance_inflation_factor(df1.to_numpy(),i)\n",
    "    print(f\"VIF of {df1.columns[i]} : \",vif)"
   ]
  },
  {
   "cell_type": "markdown",
   "id": "11b9a9ce",
   "metadata": {},
   "source": [
    "### model training"
   ]
  },
  {
   "cell_type": "markdown",
   "id": "9346244b",
   "metadata": {},
   "source": [
    "#### train test split"
   ]
  },
  {
   "cell_type": "code",
   "execution_count": 149,
   "id": "9576930c",
   "metadata": {},
   "outputs": [],
   "source": [
    "x = df.drop([\"make\",\"model\",\"price\"],axis=1)\n",
    "y = df[\"price\"]\n",
    "\n",
    "x_train,x_test,y_train,y_test = train_test_split(x,y,test_size=0.2,random_state=42)"
   ]
  },
  {
   "cell_type": "code",
   "execution_count": 150,
   "id": "04fa7684",
   "metadata": {},
   "outputs": [
    {
     "data": {
      "text/html": [
       "<style>#sk-container-id-4 {color: black;background-color: white;}#sk-container-id-4 pre{padding: 0;}#sk-container-id-4 div.sk-toggleable {background-color: white;}#sk-container-id-4 label.sk-toggleable__label {cursor: pointer;display: block;width: 100%;margin-bottom: 0;padding: 0.3em;box-sizing: border-box;text-align: center;}#sk-container-id-4 label.sk-toggleable__label-arrow:before {content: \"▸\";float: left;margin-right: 0.25em;color: #696969;}#sk-container-id-4 label.sk-toggleable__label-arrow:hover:before {color: black;}#sk-container-id-4 div.sk-estimator:hover label.sk-toggleable__label-arrow:before {color: black;}#sk-container-id-4 div.sk-toggleable__content {max-height: 0;max-width: 0;overflow: hidden;text-align: left;background-color: #f0f8ff;}#sk-container-id-4 div.sk-toggleable__content pre {margin: 0.2em;color: black;border-radius: 0.25em;background-color: #f0f8ff;}#sk-container-id-4 input.sk-toggleable__control:checked~div.sk-toggleable__content {max-height: 200px;max-width: 100%;overflow: auto;}#sk-container-id-4 input.sk-toggleable__control:checked~label.sk-toggleable__label-arrow:before {content: \"▾\";}#sk-container-id-4 div.sk-estimator input.sk-toggleable__control:checked~label.sk-toggleable__label {background-color: #d4ebff;}#sk-container-id-4 div.sk-label input.sk-toggleable__control:checked~label.sk-toggleable__label {background-color: #d4ebff;}#sk-container-id-4 input.sk-hidden--visually {border: 0;clip: rect(1px 1px 1px 1px);clip: rect(1px, 1px, 1px, 1px);height: 1px;margin: -1px;overflow: hidden;padding: 0;position: absolute;width: 1px;}#sk-container-id-4 div.sk-estimator {font-family: monospace;background-color: #f0f8ff;border: 1px dotted black;border-radius: 0.25em;box-sizing: border-box;margin-bottom: 0.5em;}#sk-container-id-4 div.sk-estimator:hover {background-color: #d4ebff;}#sk-container-id-4 div.sk-parallel-item::after {content: \"\";width: 100%;border-bottom: 1px solid gray;flex-grow: 1;}#sk-container-id-4 div.sk-label:hover label.sk-toggleable__label {background-color: #d4ebff;}#sk-container-id-4 div.sk-serial::before {content: \"\";position: absolute;border-left: 1px solid gray;box-sizing: border-box;top: 0;bottom: 0;left: 50%;z-index: 0;}#sk-container-id-4 div.sk-serial {display: flex;flex-direction: column;align-items: center;background-color: white;padding-right: 0.2em;padding-left: 0.2em;position: relative;}#sk-container-id-4 div.sk-item {position: relative;z-index: 1;}#sk-container-id-4 div.sk-parallel {display: flex;align-items: stretch;justify-content: center;background-color: white;position: relative;}#sk-container-id-4 div.sk-item::before, #sk-container-id-4 div.sk-parallel-item::before {content: \"\";position: absolute;border-left: 1px solid gray;box-sizing: border-box;top: 0;bottom: 0;left: 50%;z-index: -1;}#sk-container-id-4 div.sk-parallel-item {display: flex;flex-direction: column;z-index: 1;position: relative;background-color: white;}#sk-container-id-4 div.sk-parallel-item:first-child::after {align-self: flex-end;width: 50%;}#sk-container-id-4 div.sk-parallel-item:last-child::after {align-self: flex-start;width: 50%;}#sk-container-id-4 div.sk-parallel-item:only-child::after {width: 0;}#sk-container-id-4 div.sk-dashed-wrapped {border: 1px dashed gray;margin: 0 0.4em 0.5em 0.4em;box-sizing: border-box;padding-bottom: 0.4em;background-color: white;}#sk-container-id-4 div.sk-label label {font-family: monospace;font-weight: bold;display: inline-block;line-height: 1.2em;}#sk-container-id-4 div.sk-label-container {text-align: center;}#sk-container-id-4 div.sk-container {/* jupyter's `normalize.less` sets `[hidden] { display: none; }` but bootstrap.min.css set `[hidden] { display: none !important; }` so we also need the `!important` here to be able to override the default hidden behavior on the sphinx rendered scikit-learn.org. See: https://github.com/scikit-learn/scikit-learn/issues/21755 */display: inline-block !important;position: relative;}#sk-container-id-4 div.sk-text-repr-fallback {display: none;}</style><div id=\"sk-container-id-4\" class=\"sk-top-container\"><div class=\"sk-text-repr-fallback\"><pre>LinearRegression()</pre><b>In a Jupyter environment, please rerun this cell to show the HTML representation or trust the notebook. <br />On GitHub, the HTML representation is unable to render, please try loading this page with nbviewer.org.</b></div><div class=\"sk-container\" hidden><div class=\"sk-item\"><div class=\"sk-estimator sk-toggleable\"><input class=\"sk-toggleable__control sk-hidden--visually\" id=\"sk-estimator-id-4\" type=\"checkbox\" checked><label for=\"sk-estimator-id-4\" class=\"sk-toggleable__label sk-toggleable__label-arrow\">LinearRegression</label><div class=\"sk-toggleable__content\"><pre>LinearRegression()</pre></div></div></div></div></div>"
      ],
      "text/plain": [
       "LinearRegression()"
      ]
     },
     "execution_count": 150,
     "metadata": {},
     "output_type": "execute_result"
    }
   ],
   "source": [
    "linear_reg_model = LinearRegression()\n",
    "linear_reg_model.fit(x_train,y_train)"
   ]
  },
  {
   "cell_type": "markdown",
   "id": "9628997d",
   "metadata": {},
   "source": [
    "### Evaluation"
   ]
  },
  {
   "cell_type": "code",
   "execution_count": 151,
   "id": "30aa6ed6",
   "metadata": {},
   "outputs": [
    {
     "data": {
      "text/plain": [
       "array([63256.34045164, 94156.13918789,  2727.93806638, 38400.97058425,\n",
       "       56127.07822202])"
      ]
     },
     "execution_count": 151,
     "metadata": {},
     "output_type": "execute_result"
    }
   ],
   "source": [
    "y_train_pred = linear_reg_model.predict(x_train)\n",
    "y_train_pred[10:15]"
   ]
  },
  {
   "cell_type": "code",
   "execution_count": 152,
   "id": "396154dc",
   "metadata": {},
   "outputs": [
    {
     "data": {
      "text/plain": [
       "92758      35990\n",
       "124004    122180\n",
       "19570       9290\n",
       "100254     41550\n",
       "72069      34440\n",
       "Name: price, dtype: int64"
      ]
     },
     "execution_count": 152,
     "metadata": {},
     "output_type": "execute_result"
    }
   ],
   "source": [
    "y_train[10:15]"
   ]
  },
  {
   "cell_type": "code",
   "execution_count": 153,
   "id": "8bf83fcb",
   "metadata": {},
   "outputs": [
    {
     "data": {
      "text/plain": [
       "92758     27266.340452\n",
       "124004   -28023.860812\n",
       "19570     -6562.061934\n",
       "100254    -3149.029416\n",
       "72069     21687.078222\n",
       "Name: price, dtype: float64"
      ]
     },
     "execution_count": 153,
     "metadata": {},
     "output_type": "execute_result"
    }
   ],
   "source": [
    "y_train_pred[10:15]-y_train[10:15]"
   ]
  },
  {
   "cell_type": "markdown",
   "id": "0ff2b20d",
   "metadata": {},
   "source": [
    "### Evaluation on training data"
   ]
  },
  {
   "cell_type": "code",
   "execution_count": 154,
   "id": "ad089237",
   "metadata": {},
   "outputs": [
    {
     "name": "stdout",
     "output_type": "stream",
     "text": [
      "MSE     : 233222781.58247253\n",
      "RMSE    : 15271.63323231908\n",
      "MAE     : 8249.71674669378\n",
      "R2      : 0.6291899850496412\n"
     ]
    }
   ],
   "source": [
    "y_train_pred = linear_reg_model.predict(x_train)\n",
    "\n",
    "mse = mean_squared_error(y_train,y_train_pred)\n",
    "print(\"MSE     :\",  mse)\n",
    "\n",
    "rmse = np.sqrt(mse)\n",
    "print(\"RMSE    :\",  rmse)\n",
    "\n",
    "mae = mean_absolute_error(y_train,y_train_pred)\n",
    "print(\"MAE     :\",  mae)\n",
    "\n",
    "r_squared = r2_score(y_train,y_train_pred)\n",
    "print(\"R2      :\",  r_squared)"
   ]
  },
  {
   "cell_type": "markdown",
   "id": "8fb2c6cf",
   "metadata": {},
   "source": [
    "### Evaluation on testing data"
   ]
  },
  {
   "cell_type": "code",
   "execution_count": 155,
   "id": "7e75a775",
   "metadata": {},
   "outputs": [
    {
     "name": "stdout",
     "output_type": "stream",
     "text": [
      "MSE     : 234125465.83420292\n",
      "RMSE    : 15301.158970293816\n",
      "MAE     : 8137.627107597888\n",
      "R2      : 0.6292604282700158\n"
     ]
    }
   ],
   "source": [
    "y_test_pred = linear_reg_model.predict(x_test)\n",
    "\n",
    "mse = mean_squared_error(y_test,y_test_pred)\n",
    "print(\"MSE     :\",  mse)\n",
    "\n",
    "rmse = np.sqrt(mse)\n",
    "print(\"RMSE    :\",  rmse)\n",
    "\n",
    "mae = mean_absolute_error(y_test,y_test_pred)\n",
    "print(\"MAE     :\",  mae)\n",
    "\n",
    "r_squared = r2_score(y_test,y_test_pred)\n",
    "print(\"R2      :\",  r_squared)"
   ]
  },
  {
   "cell_type": "code",
   "execution_count": null,
   "id": "aeebf21c",
   "metadata": {},
   "outputs": [],
   "source": []
  },
  {
   "cell_type": "markdown",
   "id": "6bb7411a",
   "metadata": {},
   "source": [
    "### After feature selection"
   ]
  },
  {
   "cell_type": "code",
   "execution_count": 88,
   "id": "2b68d973",
   "metadata": {},
   "outputs": [],
   "source": [
    "x = df[[\"hp\",\"gear\",\"mileage\"]]\n",
    "y = df[\"price\"]\n",
    "x_train,x_test,y_train,y_test = train_test_split(x,y,test_size=0.2,random_state=25)"
   ]
  },
  {
   "cell_type": "code",
   "execution_count": 89,
   "id": "25ac0071",
   "metadata": {},
   "outputs": [
    {
     "data": {
      "text/html": [
       "<style>#sk-container-id-2 {color: black;background-color: white;}#sk-container-id-2 pre{padding: 0;}#sk-container-id-2 div.sk-toggleable {background-color: white;}#sk-container-id-2 label.sk-toggleable__label {cursor: pointer;display: block;width: 100%;margin-bottom: 0;padding: 0.3em;box-sizing: border-box;text-align: center;}#sk-container-id-2 label.sk-toggleable__label-arrow:before {content: \"▸\";float: left;margin-right: 0.25em;color: #696969;}#sk-container-id-2 label.sk-toggleable__label-arrow:hover:before {color: black;}#sk-container-id-2 div.sk-estimator:hover label.sk-toggleable__label-arrow:before {color: black;}#sk-container-id-2 div.sk-toggleable__content {max-height: 0;max-width: 0;overflow: hidden;text-align: left;background-color: #f0f8ff;}#sk-container-id-2 div.sk-toggleable__content pre {margin: 0.2em;color: black;border-radius: 0.25em;background-color: #f0f8ff;}#sk-container-id-2 input.sk-toggleable__control:checked~div.sk-toggleable__content {max-height: 200px;max-width: 100%;overflow: auto;}#sk-container-id-2 input.sk-toggleable__control:checked~label.sk-toggleable__label-arrow:before {content: \"▾\";}#sk-container-id-2 div.sk-estimator input.sk-toggleable__control:checked~label.sk-toggleable__label {background-color: #d4ebff;}#sk-container-id-2 div.sk-label input.sk-toggleable__control:checked~label.sk-toggleable__label {background-color: #d4ebff;}#sk-container-id-2 input.sk-hidden--visually {border: 0;clip: rect(1px 1px 1px 1px);clip: rect(1px, 1px, 1px, 1px);height: 1px;margin: -1px;overflow: hidden;padding: 0;position: absolute;width: 1px;}#sk-container-id-2 div.sk-estimator {font-family: monospace;background-color: #f0f8ff;border: 1px dotted black;border-radius: 0.25em;box-sizing: border-box;margin-bottom: 0.5em;}#sk-container-id-2 div.sk-estimator:hover {background-color: #d4ebff;}#sk-container-id-2 div.sk-parallel-item::after {content: \"\";width: 100%;border-bottom: 1px solid gray;flex-grow: 1;}#sk-container-id-2 div.sk-label:hover label.sk-toggleable__label {background-color: #d4ebff;}#sk-container-id-2 div.sk-serial::before {content: \"\";position: absolute;border-left: 1px solid gray;box-sizing: border-box;top: 0;bottom: 0;left: 50%;z-index: 0;}#sk-container-id-2 div.sk-serial {display: flex;flex-direction: column;align-items: center;background-color: white;padding-right: 0.2em;padding-left: 0.2em;position: relative;}#sk-container-id-2 div.sk-item {position: relative;z-index: 1;}#sk-container-id-2 div.sk-parallel {display: flex;align-items: stretch;justify-content: center;background-color: white;position: relative;}#sk-container-id-2 div.sk-item::before, #sk-container-id-2 div.sk-parallel-item::before {content: \"\";position: absolute;border-left: 1px solid gray;box-sizing: border-box;top: 0;bottom: 0;left: 50%;z-index: -1;}#sk-container-id-2 div.sk-parallel-item {display: flex;flex-direction: column;z-index: 1;position: relative;background-color: white;}#sk-container-id-2 div.sk-parallel-item:first-child::after {align-self: flex-end;width: 50%;}#sk-container-id-2 div.sk-parallel-item:last-child::after {align-self: flex-start;width: 50%;}#sk-container-id-2 div.sk-parallel-item:only-child::after {width: 0;}#sk-container-id-2 div.sk-dashed-wrapped {border: 1px dashed gray;margin: 0 0.4em 0.5em 0.4em;box-sizing: border-box;padding-bottom: 0.4em;background-color: white;}#sk-container-id-2 div.sk-label label {font-family: monospace;font-weight: bold;display: inline-block;line-height: 1.2em;}#sk-container-id-2 div.sk-label-container {text-align: center;}#sk-container-id-2 div.sk-container {/* jupyter's `normalize.less` sets `[hidden] { display: none; }` but bootstrap.min.css set `[hidden] { display: none !important; }` so we also need the `!important` here to be able to override the default hidden behavior on the sphinx rendered scikit-learn.org. See: https://github.com/scikit-learn/scikit-learn/issues/21755 */display: inline-block !important;position: relative;}#sk-container-id-2 div.sk-text-repr-fallback {display: none;}</style><div id=\"sk-container-id-2\" class=\"sk-top-container\"><div class=\"sk-text-repr-fallback\"><pre>LinearRegression()</pre><b>In a Jupyter environment, please rerun this cell to show the HTML representation or trust the notebook. <br />On GitHub, the HTML representation is unable to render, please try loading this page with nbviewer.org.</b></div><div class=\"sk-container\" hidden><div class=\"sk-item\"><div class=\"sk-estimator sk-toggleable\"><input class=\"sk-toggleable__control sk-hidden--visually\" id=\"sk-estimator-id-2\" type=\"checkbox\" checked><label for=\"sk-estimator-id-2\" class=\"sk-toggleable__label sk-toggleable__label-arrow\">LinearRegression</label><div class=\"sk-toggleable__content\"><pre>LinearRegression()</pre></div></div></div></div></div>"
      ],
      "text/plain": [
       "LinearRegression()"
      ]
     },
     "execution_count": 89,
     "metadata": {},
     "output_type": "execute_result"
    }
   ],
   "source": [
    "linear_reg_model = LinearRegression()\n",
    "linear_reg_model.fit(x_train,y_train)"
   ]
  },
  {
   "cell_type": "markdown",
   "id": "7d7c30cc",
   "metadata": {},
   "source": [
    "### Evaluation on training data"
   ]
  },
  {
   "cell_type": "code",
   "execution_count": 90,
   "id": "6b416e85",
   "metadata": {},
   "outputs": [
    {
     "name": "stdout",
     "output_type": "stream",
     "text": [
      "MSE     : 221267818.01879284\n",
      "RMSE    : 14875.073714734755\n",
      "MAE     : 8270.30387034804\n",
      "R2      : 0.6386137217474328\n"
     ]
    }
   ],
   "source": [
    "y_train_pred = linear_reg_model.predict(x_train)\n",
    "\n",
    "mse = mean_squared_error(y_train,y_train_pred)\n",
    "print(\"MSE     :\",  mse)\n",
    "\n",
    "rmse = np.sqrt(mse)\n",
    "print(\"RMSE    :\",  rmse)\n",
    "\n",
    "mae = mean_absolute_error(y_train,y_train_pred)\n",
    "print(\"MAE     :\",  mae)\n",
    "\n",
    "r_squared = r2_score(y_train,y_train_pred)\n",
    "print(\"R2      :\",  r_squared)"
   ]
  },
  {
   "cell_type": "markdown",
   "id": "d4d46056",
   "metadata": {},
   "source": [
    "### Evaluation on testing data"
   ]
  },
  {
   "cell_type": "code",
   "execution_count": 91,
   "id": "aea8e53c",
   "metadata": {},
   "outputs": [
    {
     "name": "stdout",
     "output_type": "stream",
     "text": [
      "MSE     : 297762112.6064469\n",
      "RMSE    : 17255.784902647778\n",
      "MAE     : 8297.997258921168\n",
      "R2      : 0.5735477317822906\n"
     ]
    }
   ],
   "source": [
    "y_test_pred = linear_reg_model.predict(x_test)\n",
    "\n",
    "mse = mean_squared_error(y_test,y_test_pred)\n",
    "print(\"MSE     :\",  mse)\n",
    "\n",
    "rmse = np.sqrt(mse)\n",
    "print(\"RMSE    :\",  rmse)\n",
    "\n",
    "mae = mean_absolute_error(y_test,y_test_pred)\n",
    "print(\"MAE     :\",  mae)\n",
    "\n",
    "r_squared = r2_score(y_test,y_test_pred)\n",
    "print(\"R2      :\",  r_squared)"
   ]
  },
  {
   "cell_type": "code",
   "execution_count": null,
   "id": "ae616727",
   "metadata": {},
   "outputs": [],
   "source": []
  },
  {
   "cell_type": "code",
   "execution_count": null,
   "id": "4055c9cb",
   "metadata": {},
   "outputs": [],
   "source": []
  }
 ],
 "metadata": {
  "kernelspec": {
   "display_name": "Python 3",
   "language": "python",
   "name": "python3"
  },
  "language_info": {
   "codemirror_mode": {
    "name": "ipython",
    "version": 3
   },
   "file_extension": ".py",
   "mimetype": "text/x-python",
   "name": "python",
   "nbconvert_exporter": "python",
   "pygments_lexer": "ipython3",
   "version": "3.10.6"
  },
  "vscode": {
   "interpreter": {
    "hash": "f722bdecef5cfabe9929c7ec54d3cb1fc4079e93d79beffc3c436b6820607758"
   }
  }
 },
 "nbformat": 4,
 "nbformat_minor": 5
}
